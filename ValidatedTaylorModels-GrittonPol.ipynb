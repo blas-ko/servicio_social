{
 "cells": [
  {
   "cell_type": "markdown",
   "metadata": {},
   "source": [
    "# Validated Taylor models: Gritton's polynomial"
   ]
  },
  {
   "cell_type": "code",
   "execution_count": 1,
   "metadata": {
    "collapsed": false
   },
   "outputs": [],
   "source": [
    "using PyPlot"
   ]
  },
  {
   "cell_type": "markdown",
   "metadata": {},
   "source": [
    "**NOTE** Current version of [TaylorSeries.jl](https://github.com/JuliaDiff/TaylorSeries.jl) (master, commit 3d9ba8f) does not yield the proper *output* when the series is displayed. Use the version in branch \"printing2\" to the proper output displayed."
   ]
  },
  {
   "cell_type": "code",
   "execution_count": 2,
   "metadata": {
    "collapsed": false
   },
   "outputs": [
    {
     "name": "stderr",
     "output_type": "stream",
     "text": [
      "INFO: Checking out TaylorSeries printing2...\n",
      "fatal: Cannot update paths and switch to branch 'printing2' at the same time.\n",
      "Did you intend to checkout 'origin/printing2' which can not be resolved as commit?\n"
     ]
    },
    {
     "ename": "LoadError",
     "evalue": "LoadError: failed process: Process(`git --work-tree=/Users/blaskolic/.julia/v0.4/TaylorSeries --git-dir=/Users/blaskolic/.julia/v0.4/TaylorSeries/.git checkout -q -B printing2 -t origin/printing2`, ProcessExited(128)) [128]\nwhile loading In[2], in expression starting on line 1",
     "output_type": "error",
     "traceback": [
      "LoadError: failed process: Process(`git --work-tree=/Users/blaskolic/.julia/v0.4/TaylorSeries --git-dir=/Users/blaskolic/.julia/v0.4/TaylorSeries/.git checkout -q -B printing2 -t origin/printing2`, ProcessExited(128)) [128]\nwhile loading In[2], in expression starting on line 1",
      ""
     ]
    }
   ],
   "source": [
    "Pkg.checkout(\"TaylorSeries\", \"printing2\")"
   ]
  },
  {
   "cell_type": "code",
   "execution_count": 3,
   "metadata": {
    "collapsed": false
   },
   "outputs": [
    {
     "name": "stderr",
     "output_type": "stream",
     "text": [
      "WARNING: Union(args...) is deprecated, use Union{args...} instead.\n",
      " in depwarn at deprecated.jl:73\n",
      " in call at deprecated.jl:50\n",
      " [inlined code] from /Users/blaskolic/.julia/v0.4/TaylorSeries/src/Taylor1.jl:127\n",
      " in anonymous at no file:0\n",
      " in include at ./boot.jl:261\n",
      " in include_from_node1 at ./loading.jl:304\n",
      " in include at ./boot.jl:261\n",
      " in include_from_node1 at ./loading.jl:304\n",
      " in require at ./loading.jl:243\n",
      " in include_string at loading.jl:266\n",
      " in execute_request_0x535c5df2 at /Users/blaskolic/.julia/v0.4/IJulia/src/execute_request.jl:177\n",
      " in eventloop at /Users/blaskolic/.julia/v0.4/IJulia/src/IJulia.jl:141\n",
      " in anonymous at task.jl:447\n",
      "while loading /Users/blaskolic/.julia/v0.4/TaylorSeries/src/Taylor1.jl, in expression starting on line 143\n",
      "WARNING: Union(args...) is deprecated, use Union{args...} instead.\n",
      " in depwarn at deprecated.jl:73\n",
      " in call at deprecated.jl:50\n",
      " [inlined code] from /Users/blaskolic/.julia/v0.4/TaylorSeries/src/Taylor1.jl:127\n",
      " in anonymous at no file:0\n",
      " in include at ./boot.jl:261\n",
      " in include_from_node1 at ./loading.jl:304\n",
      " in include at ./boot.jl:261\n",
      " in include_from_node1 at ./loading.jl:304\n",
      " in require at ./loading.jl:243\n",
      " in include_string at loading.jl:266\n",
      " in execute_request_0x535c5df2 at /Users/blaskolic/.julia/v0.4/IJulia/src/execute_request.jl:177\n",
      " in eventloop at /Users/blaskolic/.julia/v0.4/IJulia/src/IJulia.jl:141\n",
      " in anonymous at task.jl:447\n",
      "while loading /Users/blaskolic/.julia/v0.4/TaylorSeries/src/Taylor1.jl, in expression starting on line 152\n",
      "WARNING: Union(args...) is deprecated, use Union{args...} instead.\n",
      " in depwarn at deprecated.jl:73\n",
      " in call at deprecated.jl:50\n",
      " [inlined code] from /Users/blaskolic/.julia/v0.4/TaylorSeries/src/Taylor1.jl:127\n",
      " in anonymous at no file:0\n",
      " in include at ./boot.jl:261\n",
      " in include_from_node1 at ./loading.jl:304\n",
      " in include at ./boot.jl:261\n",
      " in include_from_node1 at ./loading.jl:304\n",
      " in require at ./loading.jl:243\n",
      " in include_string at loading.jl:266\n",
      " in execute_request_0x535c5df2 at /Users/blaskolic/.julia/v0.4/IJulia/src/execute_request.jl:177\n",
      " in eventloop at /Users/blaskolic/.julia/v0.4/IJulia/src/IJulia.jl:141\n",
      " in anonymous at task.jl:447\n",
      "while loading /Users/blaskolic/.julia/v0.4/TaylorSeries/src/Taylor1.jl, in expression starting on line 143\n",
      "WARNING: Union(args...) is deprecated, use Union{args...} instead.\n",
      " in depwarn at deprecated.jl:73\n",
      " in call at deprecated.jl:50\n",
      " [inlined code] from /Users/blaskolic/.julia/v0.4/TaylorSeries/src/Taylor1.jl:127\n",
      " in anonymous at no file:0\n",
      " in include at ./boot.jl:261\n",
      " in include_from_node1 at ./loading.jl:304\n",
      " in include at ./boot.jl:261\n",
      " in include_from_node1 at ./loading.jl:304\n",
      " in require at ./loading.jl:243\n",
      " in include_string at loading.jl:266\n",
      " in execute_request_0x535c5df2 at /Users/blaskolic/.julia/v0.4/IJulia/src/execute_request.jl:177\n",
      " in eventloop at /Users/blaskolic/.julia/v0.4/IJulia/src/IJulia.jl:141\n",
      " in anonymous at task.jl:447\n",
      "while loading /Users/blaskolic/.julia/v0.4/TaylorSeries/src/Taylor1.jl, in expression starting on line 152\n",
      "WARNING: Union(args...) is deprecated, use Union{args...} instead.\n",
      " in depwarn at deprecated.jl:73\n",
      " in call at deprecated.jl:50\n",
      " in include at ./boot.jl:261\n",
      " in include_from_node1 at ./loading.jl:304\n",
      " in include at ./boot.jl:261\n",
      " in include_from_node1 at ./loading.jl:304\n",
      " in require at ./loading.jl:243\n",
      " in include_string at loading.jl:266\n",
      " in execute_request_0x535c5df2 at /Users/blaskolic/.julia/v0.4/IJulia/src/execute_request.jl:177\n",
      " in eventloop at /Users/blaskolic/.julia/v0.4/IJulia/src/IJulia.jl:141\n",
      " in anonymous at task.jl:447\n",
      "while loading /Users/blaskolic/.julia/v0.4/TaylorSeries/src/Taylor1.jl, in expression starting on line 167\n",
      "WARNING: Union(args...) is deprecated, use Union{args...} instead.\n",
      " in depwarn at deprecated.jl:73\n",
      " in call at deprecated.jl:50\n",
      " in include at ./boot.jl:261\n",
      " in include_from_node1 at ./loading.jl:304\n",
      " in include at ./boot.jl:261\n",
      " in include_from_node1 at ./loading.jl:304\n",
      " in require at ./loading.jl:243\n",
      " in include_string at loading.jl:266\n",
      " in execute_request_0x535c5df2 at /Users/blaskolic/.julia/v0.4/IJulia/src/execute_request.jl:177\n",
      " in eventloop at /Users/blaskolic/.julia/v0.4/IJulia/src/IJulia.jl:141\n",
      " in anonymous at task.jl:447\n",
      "while loading /Users/blaskolic/.julia/v0.4/TaylorSeries/src/Taylor1.jl, in expression starting on line 175\n",
      "WARNING: Base.String is deprecated, use AbstractString instead.\n",
      "  likely near /Users/blaskolic/.julia/v0.4/TaylorSeries/src/parameters.jl:42\n",
      "WARNING: Base.String is deprecated, use AbstractString instead.\n",
      "  likely near /Users/blaskolic/.julia/v0.4/TaylorSeries/src/parameters.jl:47\n",
      "WARNING: Base.String is deprecated, use AbstractString instead.\n",
      "  likely near /Users/blaskolic/.julia/v0.4/TaylorSeries/src/parameters.jl:47\n",
      "WARNING: Base.String is deprecated, use AbstractString instead.\n",
      "  likely near /Users/blaskolic/.julia/v0.4/TaylorSeries/src/parameters.jl:47\n",
      "WARNING: Base.String is deprecated, use AbstractString instead.\n",
      "  likely near /Users/blaskolic/.julia/v0.4/TaylorSeries/src/parameters.jl:434\n",
      "WARNING: Base.String is deprecated, use AbstractString instead.\n",
      "  likely near /Users/blaskolic/.julia/v0.4/TaylorSeries/src/parameters.jl:78\n",
      "WARNING: Base.String is deprecated, use AbstractString instead.\n",
      "  likely near /Users/blaskolic/.julia/v0.4/TaylorSeries/src/parameters.jl:78\n",
      "WARNING: Base.String is deprecated, use AbstractString instead.\n",
      "  likely near /Users/blaskolic/.julia/v0.4/TaylorSeries/src/parameters.jl:78\n",
      "WARNING: Base.String is deprecated, use AbstractString instead.\n",
      "  likely near /Users/blaskolic/.julia/v0.4/TaylorSeries/src/parameters.jl:89\n",
      "WARNING: Base.String is deprecated, use AbstractString instead.\n",
      "  likely near /Users/blaskolic/.julia/v0.4/TaylorSeries/src/parameters.jl:89\n",
      "WARNING: Base.String is deprecated, use AbstractString instead.\n",
      "  likely near /Users/blaskolic/.julia/v0.4/TaylorSeries/src/parameters.jl:89\n",
      "WARNING: Union(args...) is deprecated, use Union{args...} instead.\n",
      " in depwarn at deprecated.jl:73\n",
      " in call at deprecated.jl:50\n",
      " in include at ./boot.jl:261\n",
      " in include_from_node1 at ./loading.jl:304\n",
      " in include at ./boot.jl:261\n",
      " in include_from_node1 at ./loading.jl:304\n",
      " in require at ./loading.jl:243\n",
      " in include_string at loading.jl:266\n",
      " in execute_request_0x535c5df2 at /Users/blaskolic/.julia/v0.4/IJulia/src/execute_request.jl:177\n",
      " in eventloop at /Users/blaskolic/.julia/v0.4/IJulia/src/IJulia.jl:141\n",
      " in anonymous at task.jl:447\n",
      "while loading /Users/blaskolic/.julia/v0.4/TaylorSeries/src/TaylorN.jl, in expression starting on line 129\n",
      "WARNING: Union(args...) is deprecated, use Union{args...} instead.\n",
      " in depwarn at deprecated.jl:73\n",
      " in call at deprecated.jl:50\n",
      " [inlined code] from /Users/blaskolic/.julia/v0.4/TaylorSeries/src/TaylorN.jl:311\n",
      " in anonymous at no file:0\n",
      " in include at ./boot.jl:261\n",
      " in include_from_node1 at ./loading.jl:304\n",
      " in include at ./boot.jl:261\n",
      " in include_from_node1 at ./loading.jl:304\n",
      " in require at ./loading.jl:243\n",
      " in include_string at loading.jl:266\n",
      " in execute_request_0x535c5df2 at /Users/blaskolic/.julia/v0.4/IJulia/src/execute_request.jl:177\n",
      " in eventloop at /Users/blaskolic/.julia/v0.4/IJulia/src/IJulia.jl:141\n",
      " in anonymous at task.jl:447\n",
      "while loading /Users/blaskolic/.julia/v0.4/TaylorSeries/src/TaylorN.jl, in expression starting on line 312\n",
      "WARNING: Union(args...) is deprecated, use Union{args...} instead.\n",
      " in depwarn at deprecated.jl:73\n",
      " in call at deprecated.jl:50\n",
      " [inlined code] from /Users/blaskolic/.julia/v0.4/TaylorSeries/src/TaylorN.jl:311\n",
      " in anonymous at no file:0\n",
      " in include at ./boot.jl:261\n",
      " in include_from_node1 at ./loading.jl:304\n",
      " in include at ./boot.jl:261\n",
      " in include_from_node1 at ./loading.jl:304\n",
      " in require at ./loading.jl:243\n",
      " in include_string at loading.jl:266\n",
      " in execute_request_0x535c5df2 at /Users/blaskolic/.julia/v0.4/IJulia/src/execute_request.jl:177\n",
      " in eventloop at /Users/blaskolic/.julia/v0.4/IJulia/src/IJulia.jl:141\n",
      " in anonymous at task.jl:447\n",
      "while loading /Users/blaskolic/.julia/v0.4/TaylorSeries/src/TaylorN.jl, in expression starting on line 322\n",
      "WARNING: Union(args...) is deprecated, use Union{args...} instead.\n",
      " in depwarn at deprecated.jl:73\n",
      " in call at deprecated.jl:50\n",
      " [inlined code] from /Users/blaskolic/.julia/v0.4/TaylorSeries/src/TaylorN.jl:311\n",
      " in anonymous at no file:0\n",
      " in include at ./boot.jl:261\n",
      " in include_from_node1 at ./loading.jl:304\n",
      " in include at ./boot.jl:261\n",
      " in include_from_node1 at ./loading.jl:304\n",
      " in require at ./loading.jl:243\n",
      " in include_string at loading.jl:266\n",
      " in execute_request_0x535c5df2 at /Users/blaskolic/.julia/v0.4/IJulia/src/execute_request.jl:177\n",
      " in eventloop at /Users/blaskolic/.julia/v0.4/IJulia/src/IJulia.jl:141\n",
      " in anonymous at task.jl:447\n",
      "while loading /Users/blaskolic/.julia/v0.4/TaylorSeries/src/TaylorN.jl, in expression starting on line 312\n",
      "WARNING: Union(args...) is deprecated, use Union{args...} instead.\n",
      " in depwarn at deprecated.jl:73\n",
      " in call at deprecated.jl:50\n",
      " [inlined code] from /Users/blaskolic/.julia/v0.4/TaylorSeries/src/TaylorN.jl:311\n",
      " in anonymous at no file:0\n",
      " in include at ./boot.jl:261\n",
      " in include_from_node1 at ./loading.jl:304\n",
      " in include at ./boot.jl:261\n",
      " in include_from_node1 at ./loading.jl:304\n",
      " in require at ./loading.jl:243\n",
      " in include_string at loading.jl:266\n",
      " in execute_request_0x535c5df2 at /Users/blaskolic/.julia/v0.4/IJulia/src/execute_request.jl:177\n",
      " in eventloop at /Users/blaskolic/.julia/v0.4/IJulia/src/IJulia.jl:141\n",
      " in anonymous at task.jl:447\n",
      "while loading /Users/blaskolic/.julia/v0.4/TaylorSeries/src/TaylorN.jl, in expression starting on line 322\n",
      "WARNING: Union(args...) is deprecated, use Union{args...} instead.\n",
      " in depwarn at deprecated.jl:73\n",
      " in call at deprecated.jl:50\n",
      " in include at ./boot.jl:261\n",
      " in include_from_node1 at ./loading.jl:304\n",
      " in include at ./boot.jl:261\n",
      " in include_from_node1 at ./loading.jl:304\n",
      " in require at ./loading.jl:243\n",
      " in include_string at loading.jl:266\n",
      " in execute_request_0x535c5df2 at /Users/blaskolic/.julia/v0.4/IJulia/src/execute_request.jl:177\n",
      " in eventloop at /Users/blaskolic/.julia/v0.4/IJulia/src/IJulia.jl:141\n",
      " in anonymous at task.jl:447\n",
      "while loading /Users/blaskolic/.julia/v0.4/TaylorSeries/src/TaylorN.jl, in expression starting on line 369\n",
      "WARNING: Union(args...) is deprecated, use Union{args...} instead.\n",
      " in depwarn at deprecated.jl:73\n",
      " in call at deprecated.jl:50\n",
      " in include at ./boot.jl:261\n",
      " in include_from_node1 at ./loading.jl:304\n",
      " in include at ./boot.jl:261\n",
      " in include_from_node1 at ./loading.jl:304\n",
      " in require at ./loading.jl:243\n",
      " in include_string at loading.jl:266\n",
      " in execute_request_0x535c5df2 at /Users/blaskolic/.julia/v0.4/IJulia/src/execute_request.jl:177\n",
      " in eventloop at /Users/blaskolic/.julia/v0.4/IJulia/src/IJulia.jl:141\n",
      " in anonymous at task.jl:447\n",
      "while loading /Users/blaskolic/.julia/v0.4/TaylorSeries/src/TaylorN.jl, in expression starting on line 378\n",
      "WARNING: Union(args...) is deprecated, use Union{args...} instead.\n",
      " in depwarn at deprecated.jl:73\n",
      " in call at deprecated.jl:50\n",
      " in include at ./boot.jl:261\n",
      " in include_from_node1 at ./loading.jl:304\n",
      " in include at ./boot.jl:261\n",
      " in include_from_node1 at ./loading.jl:304\n",
      " in require at ./loading.jl:243\n",
      " in include_string at loading.jl:266\n",
      " in execute_request_0x535c5df2 at /Users/blaskolic/.julia/v0.4/IJulia/src/execute_request.jl:177\n",
      " in eventloop at /Users/blaskolic/.julia/v0.4/IJulia/src/IJulia.jl:141\n",
      " in anonymous at task.jl:447\n",
      "while loading /Users/blaskolic/.julia/v0.4/TaylorSeries/src/TaylorN.jl, in expression starting on line 383\n",
      "WARNING: Union(args...) is deprecated, use Union{args...} instead.\n",
      " in depwarn at deprecated.jl:73\n",
      " in call at deprecated.jl:50\n",
      " in include at ./boot.jl:261\n",
      " in include_from_node1 at ./loading.jl:304\n",
      " in include at ./boot.jl:261\n",
      " in include_from_node1 at ./loading.jl:304\n",
      " in require at ./loading.jl:243\n",
      " in include_string at loading.jl:266\n",
      " in execute_request_0x535c5df2 at /Users/blaskolic/.julia/v0.4/IJulia/src/execute_request.jl:177\n",
      " in eventloop at /Users/blaskolic/.julia/v0.4/IJulia/src/IJulia.jl:141\n",
      " in anonymous at task.jl:447\n",
      "while loading /Users/blaskolic/.julia/v0.4/TaylorSeries/src/TaylorN.jl, in expression starting on line 392\n",
      "WARNING: Union(args...) is deprecated, use Union{args...} instead.\n",
      " in depwarn at deprecated.jl:73\n",
      " in call at deprecated.jl:50\n",
      " in include at ./boot.jl:261\n",
      " in include_from_node1 at ./loading.jl:304\n",
      " in include at ./boot.jl:261\n",
      " in include_from_node1 at ./loading.jl:304\n",
      " in require at ./loading.jl:243\n",
      " in include_string at loading.jl:266\n",
      " in execute_request_0x535c5df2 at /Users/blaskolic/.julia/v0.4/IJulia/src/execute_request.jl:177\n",
      " in eventloop at /Users/blaskolic/.julia/v0.4/IJulia/src/IJulia.jl:141\n",
      " in anonymous at task.jl:447\n",
      "while loading /Users/blaskolic/.julia/v0.4/TaylorSeries/src/TaylorN.jl, in expression starting on line 845\n",
      "WARNING: Union(args...) is deprecated, use Union{args...} instead.\n",
      " in depwarn at deprecated.jl:73\n",
      " in call at deprecated.jl:50\n",
      " in include at ./boot.jl:261\n",
      " in include_from_node1 at ./loading.jl:304\n",
      " in include at ./boot.jl:261\n",
      " in include_from_node1 at ./loading.jl:304\n",
      " in require at ./loading.jl:243\n",
      " in include_string at loading.jl:266\n",
      " in execute_request_0x535c5df2 at /Users/blaskolic/.julia/v0.4/IJulia/src/execute_request.jl:177\n",
      " in eventloop at /Users/blaskolic/.julia/v0.4/IJulia/src/IJulia.jl:141\n",
      " in anonymous at task.jl:447\n",
      "while loading /Users/blaskolic/.julia/v0.4/TaylorSeries/src/TaylorN.jl, in expression starting on line 860\n",
      "WARNING: Union(args...) is deprecated, use Union{args...} instead.\n",
      " in depwarn at deprecated.jl:73\n",
      " in call at deprecated.jl:50\n",
      " in include at ./boot.jl:261\n",
      " in include_from_node1 at ./loading.jl:304\n",
      " in include at ./boot.jl:261\n",
      " in include_from_node1 at ./loading.jl:304\n",
      " in require at ./loading.jl:243\n",
      " in include_string at loading.jl:266\n",
      " in execute_request_0x535c5df2 at /Users/blaskolic/.julia/v0.4/IJulia/src/execute_request.jl:177\n",
      " in eventloop at /Users/blaskolic/.julia/v0.4/IJulia/src/IJulia.jl:141\n",
      " in anonymous at task.jl:447\n",
      "while loading /Users/blaskolic/.julia/v0.4/TaylorSeries/src/TaylorN.jl, in expression starting on line 879\n",
      "WARNING: Union(args...) is deprecated, use Union{args...} instead.\n",
      " in depwarn at deprecated.jl:73\n",
      " in call at deprecated.jl:50\n",
      " in include at ./boot.jl:261\n",
      " in include_from_node1 at ./loading.jl:304\n",
      " in include at ./boot.jl:261\n",
      " in include_from_node1 at ./loading.jl:304\n",
      " in require at ./loading.jl:243\n",
      " in include_string at loading.jl:266\n",
      " in execute_request_0x535c5df2 at /Users/blaskolic/.julia/v0.4/IJulia/src/execute_request.jl:177\n",
      " in eventloop at /Users/blaskolic/.julia/v0.4/IJulia/src/IJulia.jl:141\n",
      " in anonymous at task.jl:447\n",
      "while loading /Users/blaskolic/.julia/v0.4/TaylorSeries/src/TaylorN.jl, in expression starting on line 914\n",
      "WARNING: Union(args...) is deprecated, use Union{args...} instead.\n",
      " in depwarn at deprecated.jl:73\n",
      " in call at deprecated.jl:50\n",
      " in include at ./boot.jl:261\n",
      " in include_from_node1 at ./loading.jl:304\n",
      " in include at ./boot.jl:261\n",
      " in include_from_node1 at ./loading.jl:304\n",
      " in require at ./loading.jl:243\n",
      " in include_string at loading.jl:266\n",
      " in execute_request_0x535c5df2 at /Users/blaskolic/.julia/v0.4/IJulia/src/execute_request.jl:177\n",
      " in eventloop at /Users/blaskolic/.julia/v0.4/IJulia/src/IJulia.jl:141\n",
      " in anonymous at task.jl:447\n",
      "while loading /Users/blaskolic/.julia/v0.4/TaylorSeries/src/printing.jl, in expression starting on line 149\n",
      "WARNING: Union(args...) is deprecated, use Union{args...} instead.\n",
      " in depwarn at deprecated.jl:73\n",
      " in call at deprecated.jl:50\n",
      " in include at ./boot.jl:261\n",
      " in include_from_node1 at ./loading.jl:304\n",
      " in include at ./boot.jl:261\n",
      " in include_from_node1 at ./loading.jl:304\n",
      " in require at ./loading.jl:243\n",
      " in include_string at loading.jl:266\n",
      " in execute_request_0x535c5df2 at /Users/blaskolic/.julia/v0.4/IJulia/src/execute_request.jl:177\n",
      " in eventloop at /Users/blaskolic/.julia/v0.4/IJulia/src/IJulia.jl:141\n",
      " in anonymous at task.jl:447\n",
      "while loading /Users/blaskolic/.julia/v0.4/TaylorSeries/src/printing.jl, in expression starting on line 154\n",
      "INFO: Precompiling module ValidatedNumerics...\n"
     ]
    }
   ],
   "source": [
    "# Load TaylorSeries *first* and then ValidatedNumerics\n",
    "using TaylorSeries\n",
    "using ValidatedNumerics"
   ]
  },
  {
   "cell_type": "code",
   "execution_count": 4,
   "metadata": {
    "collapsed": false
   },
   "outputs": [
    {
     "data": {
      "text/plain": [
       "taylor1_variable (generic function with 4 methods)"
      ]
     },
     "execution_count": 4,
     "metadata": {},
     "output_type": "execute_result"
    }
   ],
   "source": [
    "# This is an abbreviation used somewhere below\n",
    "const t1v = taylor1_variable"
   ]
  },
  {
   "cell_type": "code",
   "execution_count": 5,
   "metadata": {
    "collapsed": false
   },
   "outputs": [
    {
     "data": {
      "text/html": [
       "4 methods for generic function <b>taylor1_variable</b>:<ul><li> taylor1_variable() at <a href=\"https://github.com/lbenet/TaylorSeries.jl/tree/1c1b36244f84228101720080c390724d7c3568ba/src/Taylor1.jl#L50\" target=\"_blank\">/Users/blaskolic/.julia/v0.4/TaylorSeries/src/Taylor1.jl:50</a><li> taylor1_variable(T::<b>Type{T}</b>) at <a href=\"https://github.com/lbenet/TaylorSeries.jl/tree/1c1b36244f84228101720080c390724d7c3568ba/src/Taylor1.jl#L49\" target=\"_blank\">/Users/blaskolic/.julia/v0.4/TaylorSeries/src/Taylor1.jl:49</a><li> taylor1_variable(T::<b>Type{T}</b>, order::<b>Int64</b>) at <a href=\"https://github.com/lbenet/TaylorSeries.jl/tree/1c1b36244f84228101720080c390724d7c3568ba/src/Taylor1.jl#L49\" target=\"_blank\">/Users/blaskolic/.julia/v0.4/TaylorSeries/src/Taylor1.jl:49</a><li> taylor1_variable(order::<b>Int64</b>) at <a href=\"https://github.com/lbenet/TaylorSeries.jl/tree/1c1b36244f84228101720080c390724d7c3568ba/src/Taylor1.jl#L50\" target=\"_blank\">/Users/blaskolic/.julia/v0.4/TaylorSeries/src/Taylor1.jl:50</a></ul>"
      ],
      "text/plain": [
       "# 4 methods for generic function \"taylor1_variable\":\n",
       "taylor1_variable() at /Users/blaskolic/.julia/v0.4/TaylorSeries/src/Taylor1.jl:50\n",
       "taylor1_variable(T::Type{T}) at /Users/blaskolic/.julia/v0.4/TaylorSeries/src/Taylor1.jl:49\n",
       "taylor1_variable(T::Type{T}, order::Int64) at /Users/blaskolic/.julia/v0.4/TaylorSeries/src/Taylor1.jl:49\n",
       "taylor1_variable(order::Int64) at /Users/blaskolic/.julia/v0.4/TaylorSeries/src/Taylor1.jl:50"
      ]
     },
     "execution_count": 5,
     "metadata": {},
     "output_type": "execute_result"
    }
   ],
   "source": [
    "methods(taylor1_variable)"
   ]
  },
  {
   "cell_type": "markdown",
   "metadata": {},
   "source": [
    "## Gritton's second problem"
   ]
  },
  {
   "cell_type": "markdown",
   "metadata": {},
   "source": [
    "### The problem"
   ]
  },
  {
   "cell_type": "markdown",
   "metadata": {},
   "source": [
    "The following example is based on a talk by R. Baker Kearfott (http://www.mat.univie.ac.at/~neum/glopt/mss/Kea00.pdf). It illustrates that the overestimation induced by Interval Arithmetics can be somewhat controlled by using Taylor expansions locally, that is, \"higher-order multivariate Taylor models can lead to much tighter bounds\".\n",
    "\n",
    "Then, the goal is to obtain *sharp bounds* of an 18th-degree real polynomial of interest in a chemical engineering problem in a specific interval. In this example, the interval of interest is $x_I = [1.35, 1.37]$."
   ]
  },
  {
   "cell_type": "markdown",
   "metadata": {},
   "source": [
    "Gritton's polynomial $p_G(x)$ is given by\n",
    "\n",
    "\\begin{eqnarray}\n",
    "p_G(x) & = & −0.371936250000000 ∗ 10^{3}\\\\\n",
    "     & + & x ∗ (−0.791246565600000 ∗ 10^{3}\\\\\n",
    "     & + & x ∗ ( 0.404494414300000 ∗ 10^{4}\\\\\n",
    "     & + & x ∗ ( 0.978137516700000 ∗ 10^{3}\\\\\n",
    "     & + & x ∗ (−0.165478928000000 ∗ 10^{5}\\\\\n",
    "     & + & x ∗ ( 0.221407282700000 ∗ 10^{5}\\\\\n",
    "     & + & x ∗ (−0.932654935900000 ∗ 10^{4}\\\\\n",
    "     & + & x ∗ (−0.351853687200000 ∗ 10^{4}\\\\\n",
    "     & + & x ∗ ( 0.478253229600000 ∗ 10^{4}\\\\\n",
    "     & + & x ∗ (−0.128147944000000 ∗ 10^{4}\\\\\n",
    "     & + & x ∗ (−0.283443587500000 ∗ 10^{3}\\\\\n",
    "     & + & x ∗ ( 0.202627091500000 ∗ 10^{3}\\\\\n",
    "     & + & x ∗ (−0.161791345900000 ∗ 10^{2}\\\\\n",
    "     & + & x ∗ (−0.888303902000000 ∗ 10^{1}\\\\\n",
    "     & + & x ∗ ( 0.157558017300000 ∗ 10^{1}\\\\\n",
    "     & + & x ∗ ( 0.124599084800000 ∗ 10^{0}\\\\\n",
    "     & + & x ∗ (−0.358914862200000 ∗ 10^{−1}\\\\\n",
    "     & + & x ∗ (−0.195109557600000 ∗ 10^{−3}\\\\\n",
    "     & + & x ∗ ( 0.227468222900000 ∗ 10^{−3} ))))))))))))))))))\n",
    "\\end{eqnarray}\n"
   ]
  },
  {
   "cell_type": "code",
   "execution_count": 8,
   "metadata": {
    "collapsed": false
   },
   "outputs": [
    {
     "data": {
      "text/plain": [
       "gritton_pol (generic function with 1 method)"
      ]
     },
     "execution_count": 8,
     "metadata": {},
     "output_type": "execute_result"
    }
   ],
   "source": [
    "\"\"\"This implements Gritton's 18th degree polynomial\"\"\"\n",
    "function gritton_pol(x)\n",
    "    p = -0.371936250000000 * 10.0^(3) + \n",
    "        x * (-0.791246565600000 * 10.0^(3) + \n",
    "        x * ( 0.404494414300000 * 10.0^(4) + \n",
    "        x * ( 0.978137516700000 * 10.0^(3) + \n",
    "        x * (-0.165478928000000 * 10.0^(5) + \n",
    "        x * ( 0.221407282700000 * 10.0^(5) + \n",
    "        x * (-0.932654935900000 * 10.0^(4) + \n",
    "        x * (-0.351853687200000 * 10.0^(4) + \n",
    "        x * ( 0.478253229600000 * 10.0^(4) + \n",
    "        x * (-0.128147944000000 * 10.0^(4) + \n",
    "        x * (-0.283443587500000 * 10.0^(3) + \n",
    "        x * ( 0.202627091500000 * 10.0^(3) + \n",
    "        x * (-0.161791345900000 * 10.0^(2) + \n",
    "        x * (-0.888303902000000 * 10.0^(1) + \n",
    "        x * ( 0.157558017300000 * 10.0^(1) + \n",
    "        x * ( 0.124599084800000 * 10.0^(0) + \n",
    "        x * (-0.358914862200000 * 10.0^(-1) + \n",
    "        x * (-0.195109557600000 * 10.0^(-3) + \n",
    "        x * ( 0.227468222900000 * 10.0^(-3) ))))))))))))))))))\n",
    "    return p\n",
    "end"
   ]
  },
  {
   "cell_type": "code",
   "execution_count": 9,
   "metadata": {
    "collapsed": false
   },
   "outputs": [
    {
     "data": {
      "text/plain": [
       "plot_f_interval (generic function with 2 methods)"
      ]
     },
     "execution_count": 9,
     "metadata": {},
     "output_type": "execute_result"
    }
   ],
   "source": [
    "\"\"\"Plots a function `f` in a given interval `x_interval`, using `num_points`\"\"\"\n",
    "function plot_f_interval(f::Function, x_interval::Interval, num_points=100)\n",
    "\n",
    "    xv = linspace(x_interval.lo, x_interval.hi, num_points)\n",
    "    fv = map(f, xv)\n",
    "\n",
    "    plot(xv, fv, \"b,\")\n",
    "    nothing\n",
    "end"
   ]
  },
  {
   "cell_type": "markdown",
   "metadata": {},
   "source": [
    "The following is taken directly from the talk, about Gritton's second problem:\n",
    "\n",
    "- An eighteenth degree polynomial arising from a chemical engineering problem.\n",
    "\n",
    "- The problem has eighteen roots in the initial interval $[−12, 8]$.\n",
    "\n",
    "- The root at $x \\approx 1.381$ is difficult to isolate because of interval dependencies."
   ]
  },
  {
   "cell_type": "code",
   "execution_count": 29,
   "metadata": {
    "collapsed": false
   },
   "outputs": [
    {
     "data": {
      "image/png": "[encoded data removed]",
      "text/plain": [
       "PyPlot.Figure(PyObject <matplotlib.figure.Figure object at 0x321ad6390>)"
      ]
     },
     "metadata": {},
     "output_type": "display_data"
    }
   ],
   "source": [
    "xlabel(L\"x\", size=14)\n",
    "ylabel(L\"p_G(x)\", size=14)\n",
    "plot_f_interval(gritton_pol, Interval(-12,8), 5000);"
   ]
  },
  {
   "cell_type": "code",
   "execution_count": 11,
   "metadata": {
    "collapsed": false
   },
   "outputs": [
    {
     "data": {
      "image/png": "[encoded data removed]",
      "text/plain": [
       "PyPlot.Figure(PyObject <matplotlib.figure.Figure object at 0x315872d10>)"
      ]
     },
     "metadata": {},
     "output_type": "display_data"
    }
   ],
   "source": [
    "xlabel(L\"x\", size=14)\n",
    "ylabel(L\"p_G(x)\", size=14)\n",
    "plot_f_interval(gritton_pol, Interval(1.3,1.4), 1000)\n",
    "plot([1.3,1.4], [0.0,0.0], \"r-\");"
   ]
  },
  {
   "cell_type": "markdown",
   "metadata": {},
   "source": [
    "### Naive use of interval arithmetics"
   ]
  },
  {
   "cell_type": "markdown",
   "metadata": {},
   "source": [
    "A straigthforward evaluation of $p_G(x)$ in the interval $x_I=[1.35,1.37]$ yields a dramatic overestimation of the range of $p_G(x)$ in $x_I$:"
   ]
  },
  {
   "cell_type": "code",
   "execution_count": 12,
   "metadata": {
    "collapsed": false
   },
   "outputs": [
    {
     "data": {
      "text/plain": [
       "[1.3499999999999999, 1.37]"
      ]
     },
     "execution_count": 12,
     "metadata": {},
     "output_type": "execute_result"
    }
   ],
   "source": [
    "xI = @interval(1.35,1.37)"
   ]
  },
  {
   "cell_type": "code",
   "execution_count": 13,
   "metadata": {
    "collapsed": false
   },
   "outputs": [
    {
     "data": {
      "text/plain": [
       "[-1381.748386864257, 1383.9789924024344]"
      ]
     },
     "execution_count": 13,
     "metadata": {},
     "output_type": "execute_result"
    }
   ],
   "source": [
    "gritton_pol( xI )"
   ]
  },
  {
   "cell_type": "markdown",
   "metadata": {},
   "source": [
    "The result above shows that interval arithmetic, used directly, yields an interval which is useless to decide if the interval does not contain a root of the $p_G(x)$."
   ]
  },
  {
   "cell_type": "markdown",
   "metadata": {},
   "source": [
    "##### TODO: Obtain the mean value extension (???), which are quoted in the talk\n",
    "\n",
    "The result should yield something like $p_G(x)\\in[−6.29, 6.35]$ (cf. page 9)."
   ]
  },
  {
   "cell_type": "markdown",
   "metadata": {},
   "source": [
    "Knowing that the function is monotonic in $x_I$ yields a better estimate (used below) of the range, which clearly shows that there is no root in $x_I$:"
   ]
  },
  {
   "cell_type": "code",
   "execution_count": 14,
   "metadata": {
    "collapsed": false
   },
   "outputs": [
    {
     "data": {
      "text/plain": [
       "[0.011259644569065586, 0.04305534684874601]"
      ]
     },
     "execution_count": 14,
     "metadata": {},
     "output_type": "execute_result"
    }
   ],
   "source": [
    "p_bounds = hull( gritton_pol(@interval(xI.lo)), gritton_pol(@interval(xI.hi)) )"
   ]
  },
  {
   "cell_type": "markdown",
   "metadata": {},
   "source": [
    "Note that, to decide about monotonicity we need to bound $p'(x)$. This can be done within \"ValidatedNumerics.jl\":"
   ]
  },
  {
   "cell_type": "code",
   "execution_count": 34,
   "metadata": {
    "collapsed": false,
    "scrolled": true
   },
   "outputs": [
    {
     "data": {
      "text/plain": [
       "ValidatedNumerics.Jet{ValidatedNumerics.Interval{Float64}}([-1381.748386864257, 1383.9789924024344],[-6184.722366933646, 6229.848712908])"
      ]
     },
     "execution_count": 34,
     "metadata": {},
     "output_type": "execute_result"
    }
   ],
   "source": [
    "gritton_pol( ValidatedNumerics.Jet(xI,one(xI)) )"
   ]
  },
  {
   "cell_type": "code",
   "execution_count": 13,
   "metadata": {
    "collapsed": false,
    "scrolled": true
   },
   "outputs": [
    {
     "data": {
      "text/plain": [
       "[-6184.722366933646, 6229.848712908]"
      ]
     },
     "execution_count": 13,
     "metadata": {},
     "output_type": "execute_result"
    }
   ],
   "source": [
    "ans.der"
   ]
  },
  {
   "cell_type": "markdown",
   "metadata": {},
   "source": [
    "Clearly from this answer, also the interval for the derivative is overestimated, so it does not allow us to conclude that $p_G(x)$ is monotonic in $x_I$."
   ]
  },
  {
   "cell_type": "markdown",
   "metadata": {},
   "source": [
    "### A Taylor model for Gritton's polynomial"
   ]
  },
  {
   "cell_type": "markdown",
   "metadata": {},
   "source": [
    "The idea is to use a Taylor polynomial of low order (below of 5th order) to bound the range of Gritton's polynomial in a tighter way. We use a Taylor expansion to approximate locally $p_G(x)$ around $x_0$ by a lower order polynomial, in such a way that the numeric errors as well as the polynomial truncation can properly be bounded by an interval."
   ]
  },
  {
   "cell_type": "markdown",
   "metadata": {},
   "source": [
    "That is, we write the Taylor expansion (in this case, and below, of 5th order) of $p_G(x)$ around the midpoint $x_0={\\rm mid}(x_I)$ as\n",
    "\\begin{equation}\n",
    "T_5(x) = \\sum_{k=0}^5 \\frac{1}{k!} \\frac{\\textrm{d}^k }{\\textrm{d}x^k}p_G(x)\\Big\\vert_{x=x_0}\\, (x-x_0)^k = \\sum_{k=0}^5 {p_G(x_0)}_{[k]} \\, \n",
    "(x-x_0)^k,\n",
    "\\end{equation}\n",
    "\n",
    "where in the second equality we have used the normalized Taylor coefficients defined by\n",
    "\\begin{equation}\n",
    "{p_G(x_0)}_{[k]} = \\frac{1}{k!} \\frac{\\textrm{d}^k}{\\textrm{d}x^k} p_G(x)\\Big\\vert_{x=x_0}.\n",
    "\\end{equation}\n",
    "\n",
    "The error of the approximation has the form\n",
    "\\begin{equation}\n",
    "E_5(x) = {p_G(\\tilde{x})}_{[6]} \\, (x-x_0)^6 + {\\cal E}_{T_5},\n",
    "\\end{equation}\n",
    "where $\\tilde{x} \\in [x_0,x]$ and ${\\cal E}_{T_5}$ is an interval enclosing the round-off coeffs of $T_5(x)$.\n",
    "\n",
    "Then, we obtain that\n",
    "\\begin{equation}\n",
    "p_G(x) \\in T_5(x_I) + E(x_I).\n",
    "\\end{equation}\n"
   ]
  },
  {
   "cell_type": "markdown",
   "metadata": {},
   "source": [
    "We compute the 5th-order Taylor approximation around $x_0=\\textrm{mid}(x_I)\\approx 1.36$ in the most naïve and straightforward way. That is, evaluating $p(x)$ at $x_0+\\delta x$, and retaining coefficients up to order 5."
   ]
  },
  {
   "cell_type": "code",
   "execution_count": 46,
   "metadata": {
    "collapsed": false
   },
   "outputs": [
    {
     "data": {
      "text/plain": [
       "1.3599999999999999"
      ]
     },
     "execution_count": 46,
     "metadata": {},
     "output_type": "execute_result"
    }
   ],
   "source": [
    "xmid = mid(xI)"
   ]
  },
  {
   "cell_type": "code",
   "execution_count": 15,
   "metadata": {
    "collapsed": false
   },
   "outputs": [
    {
     "data": {
      "text/plain": [
       " 0.025135184336647853 - 1.5815068283377514 t + 20.21883574620523 t² - 82.82115428858498 t³ + 42.83794770296379 t⁴ + 383.6576398024095 t⁵ + 𝒪(t⁶)"
      ]
     },
     "execution_count": 15,
     "metadata": {},
     "output_type": "execute_result"
    }
   ],
   "source": [
    "gritton_pol( xmid + t1v(5) )"
   ]
  },
  {
   "cell_type": "markdown",
   "metadata": {},
   "source": [
    "We compute $T_5(x_0)$ as outlined above, considering the interval extension of $x_0$, to account for $\\mathcal{E}_{T_5}$:"
   ]
  },
  {
   "cell_type": "code",
   "execution_count": 81,
   "metadata": {
    "collapsed": false
   },
   "outputs": [
    {
     "ename": "LoadError",
     "evalue": "LoadError: MethodError: `convert` has no method matching convert(::Type{Float64}, ::ValidatedNumerics.Interval{Float64})\nThis may have arisen from a call to the constructor Float64(...),\nsince type constructors fall back to convert methods.\nClosest candidates are:\n  call{T<:AbstractFloat}(::Type{T<:AbstractFloat}, ::Real, !Matched::RoundingMode{T})\n  call{T}(::Type{T}, ::Any)\n  convert(::Type{Float64}, !Matched::Int8)\n  ...\nwhile loading In[81], in expression starting on line 2",
     "output_type": "error",
     "traceback": [
      "LoadError: MethodError: `convert` has no method matching convert(::Type{Float64}, ::ValidatedNumerics.Interval{Float64})\nThis may have arisen from a call to the constructor Float64(...),\nsince type constructors fall back to convert methods.\nClosest candidates are:\n  call{T<:AbstractFloat}(::Type{T<:AbstractFloat}, ::Real, !Matched::RoundingMode{T})\n  call{T}(::Type{T}, ::Any)\n  convert(::Type{Float64}, !Matched::Int8)\n  ...\nwhile loading In[81], in expression starting on line 2",
      "",
      " in setindex! at array.jl:313",
      " in + at /Users/blaskolic/.julia/v0.4/TaylorSeries/src/Taylor1.jl:158"
     ]
    }
   ],
   "source": [
    "ord_app = 5\n",
    "T5_approx = evaluate( gritton_pol(@interval(xmid)+t1v(ord_app)), xI-xmid)"
   ]
  },
  {
   "cell_type": "code",
   "execution_count": 17,
   "metadata": {
    "collapsed": false
   },
   "outputs": [
    {
     "data": {
      "text/plain": [
       "[-7.729816770060712e-9, 6.525609439570961e-9]"
      ]
     },
     "execution_count": 17,
     "metadata": {},
     "output_type": "execute_result"
    }
   ],
   "source": [
    "err_p5 = get_coeff( gritton_pol(xI + t1v(ord_app+1)), ord_app+1) * (xI-xmid)^(ord_app+1)"
   ]
  },
  {
   "cell_type": "code",
   "execution_count": 18,
   "metadata": {
    "collapsed": false
   },
   "outputs": [
    {
     "data": {
      "text/plain": [
       "[0.007214936784639465, 0.04305543070008085]"
      ]
     },
     "execution_count": 18,
     "metadata": {},
     "output_type": "execute_result"
    }
   ],
   "source": [
    "p5_approx = T5_approx + err_p5"
   ]
  },
  {
   "cell_type": "markdown",
   "metadata": {},
   "source": [
    "Clearly, the resulting interval is strictly positive, so --if everything is rigurously handled-- $p(x) > 0$ in the interval $x_I=[1.35, 1.37]$. That is, there is no root of the polynomial in that interval.\n",
    "\n",
    "**NOTE** In the talk, the bounds are sharper (the lower bound is larger) than those obtained here. I do not see where the difference may come from."
   ]
  },
  {
   "cell_type": "markdown",
   "metadata": {},
   "source": [
    "The bounds obtained are close to the actual range of the function, and the range is strictly inside (in the interior) of the interval obtained by the Taylor approximation:"
   ]
  },
  {
   "cell_type": "code",
   "execution_count": 19,
   "metadata": {
    "collapsed": false
   },
   "outputs": [
    {
     "data": {
      "text/plain": [
       "true"
      ]
     },
     "execution_count": 19,
     "metadata": {},
     "output_type": "execute_result"
    }
   ],
   "source": [
    "p_bounds ⪽ p5_approx"
   ]
  },
  {
   "cell_type": "code",
   "execution_count": 20,
   "metadata": {
    "collapsed": false
   },
   "outputs": [
    {
     "data": {
      "text/plain": [
       "(0.03179570227968043,0.03584049391544139)"
      ]
     },
     "execution_count": 20,
     "metadata": {},
     "output_type": "execute_result"
    }
   ],
   "source": [
    "diam(p_bounds), diam(p5_approx)"
   ]
  },
  {
   "cell_type": "code",
   "execution_count": 21,
   "metadata": {
    "collapsed": false
   },
   "outputs": [
    {
     "data": {
      "image/png": "[encoded data removed]",
      "text/plain": [
       "PyPlot.Figure(PyObject <matplotlib.figure.Figure object at 0x3282bba90>)"
      ]
     },
     "metadata": {},
     "output_type": "display_data"
    }
   ],
   "source": [
    "xlabel(L\"x\", size=14)\n",
    "ylabel(L\"p_G(x)\", size=14)\n",
    "plot_f_interval(gritton_pol, Interval(1.3,1.4), 1000)\n",
    "plot([1.3,1.4], [0.0,0.0], \"r-\")\n",
    "plot([xI.lo,xI.lo, xI.hi, xI.hi, xI.lo], \n",
    "     [p5_approx.lo, p5_approx.hi, p5_approx.hi, p5_approx.lo, p5_approx.lo], \"g-\");"
   ]
  },
  {
   "cell_type": "markdown",
   "metadata": {},
   "source": [
    "### Dependence on the order of the Taylor expansion"
   ]
  },
  {
   "cell_type": "markdown",
   "metadata": {},
   "source": [
    "The question addressed here (which does not appear in the talk) is whether we may improve the bounds by considering higher order Taylor expansions. In other words, how the resulting Taylor model interval depends on the degree of the polynomial expansion?"
   ]
  },
  {
   "cell_type": "code",
   "execution_count": 22,
   "metadata": {
    "collapsed": false
   },
   "outputs": [
    {
     "data": {
      "text/plain": [
       "taylor_model (generic function with 1 method)"
      ]
     },
     "execution_count": 22,
     "metadata": {},
     "output_type": "execute_result"
    }
   ],
   "source": [
    "\"\"\"Returns the interval bounding the range of `f`, in the interval `xI`,\n",
    "using a validated Taylor expansion of order `ord_app`.\"\"\"\n",
    "function taylor_model(f::Function, xI::Interval, ord_app::Int)\n",
    "    xmid = mid(xI)\n",
    "    # Validated(?) Taylor approximation\n",
    "    f_int = f(@interval(xmid)+taylor1_variable(ord_app))\n",
    "    T_app = evaluate( f_int, xI-xmid)\n",
    "    # Interval bounding the truncation errors\n",
    "    f_int = f(xI + taylor1_variable(ord_app+1))\n",
    "    err_app = get_coeff( f_int, ord_app+1)\n",
    "    err_app = err_app * (xI-xmid)^(ord_app+1)\n",
    "    \n",
    "    return T_app + err_app\n",
    "end"
   ]
  },
  {
   "cell_type": "code",
   "execution_count": 23,
   "metadata": {
    "collapsed": false
   },
   "outputs": [
    {
     "data": {
      "image/png": "[encoded data removed]",
      "text/plain": [
       "PyPlot.Figure(PyObject <matplotlib.figure.Figure object at 0x328df3090>)"
      ]
     },
     "metadata": {},
     "output_type": "display_data"
    }
   ],
   "source": [
    "xlabel(\"Taylor truncation order\", size=14)\n",
    "ylabel(L\"{diam}(T_{ord})-{diam}(p_G(x))\", size=14)\n",
    "tm_test = map( nn -> diam(taylor_model(gritton_pol, xI, nn))-diam(p_bounds), 0:8)\n",
    "semilogy(tm_test,\".-\");"
   ]
  },
  {
   "cell_type": "code",
   "execution_count": 24,
   "metadata": {
    "collapsed": false
   },
   "outputs": [
    {
     "data": {
      "text/plain": [
       "9-element Array{ValidatedNumerics.Interval{Float64},1}:\n",
       " [-62.28916701309278, 62.33943738178171]        \n",
       "  [-1.2904285767392953, 1.3610688465739718]     \n",
       "  [-0.010205082357992008, 0.06047545104691966]  \n",
       "   [0.007049045071436859, 0.043223641078669175] \n",
       "   [0.007213713787503604, 0.043056654901424046] \n",
       "   [0.007214936784639465, 0.04305543070008085]  \n",
       "   [0.0072149438874300675, 0.043055424801497585]\n",
       "   [0.007214943920839725, 0.0430554247682073]   \n",
       "   [0.007214943920850651, 0.043055424768077]    "
      ]
     },
     "execution_count": 24,
     "metadata": {},
     "output_type": "execute_result"
    }
   ],
   "source": [
    "map( nn -> taylor_model(gritton_pol, xI, nn), 0:8)"
   ]
  },
  {
   "cell_type": "markdown",
   "metadata": {},
   "source": [
    "### Roots of Gritton's polynomial"
   ]
  },
  {
   "cell_type": "markdown",
   "metadata": {},
   "source": [
    "Let us use what we already have already implemented in \"ValidatedNumerics.jl\", and compute the\n",
    "roots of Gritton's polynomial."
   ]
  },
  {
   "cell_type": "code",
   "execution_count": 25,
   "metadata": {
    "collapsed": false
   },
   "outputs": [
    {
     "name": "stdout",
     "output_type": "stream",
     "text": [
      "  "
     ]
    },
    {
     "data": {
      "text/plain": [
       "1-element Array{ValidatedNumerics.Root{Float64},1}:\n",
       " Root([1.0, 1.0], :unique)"
      ]
     },
     "execution_count": 25,
     "metadata": {},
     "output_type": "execute_result"
    }
   ],
   "source": [
    "# For compilation\n",
    "@time newton(x->x-1, Interval(-2.0,2.0))"
   ]
  },
  {
   "cell_type": "code",
   "execution_count": 28,
   "metadata": {
    "collapsed": false
   },
   "outputs": [
    {
     "name": "stdout",
     "output_type": "stream",
     "text": [
      "  7.786936 seconds (58.48 M allocations: 1.573 GB, 5.79% gc time)\n"
     ]
    }
   ],
   "source": [
    "@time newton(gritton_pol,Interval(-12.0,8.0));"
   ]
  },
  {
   "cell_type": "code",
   "execution_count": 85,
   "metadata": {
    "collapsed": false
   },
   "outputs": [
    {
     "data": {
      "text/html": [
       "6 methods for generic function <b>newton</b>:<ul><li> newton<i>{T}</i>(f::<b>Function</b>, f_prime::<b>Function</b>, x::<b>ValidatedNumerics.Interval{T}</b>) at <a href=\"https://github.com/dpsanders/ValidatedNumerics.jl/tree/3f722df01a93204d9d7990749227bd3520db2780/src/root_finding/newton.jl#L64\" target=\"_blank\">/Users/blaskolic/.julia/v0.4/ValidatedNumerics/src/root_finding/newton.jl:64</a><li> newton<i>{T}</i>(f::<b>Function</b>, f_prime::<b>Function</b>, x::<b>ValidatedNumerics.Interval{T}</b>, level::<b>Int64</b>) at <a href=\"https://github.com/dpsanders/ValidatedNumerics.jl/tree/3f722df01a93204d9d7990749227bd3520db2780/src/root_finding/newton.jl#L64\" target=\"_blank\">/Users/blaskolic/.julia/v0.4/ValidatedNumerics/src/root_finding/newton.jl:64</a><li> newton<i>{T}</i>(f::<b>Function</b>, x::<b>ValidatedNumerics.Interval{T}</b>) at <a href=\"https://github.com/dpsanders/ValidatedNumerics.jl/tree/3f722df01a93204d9d7990749227bd3520db2780/src/root_finding/newton.jl#L137\" target=\"_blank\">/Users/blaskolic/.julia/v0.4/ValidatedNumerics/src/root_finding/newton.jl:137</a><li> newton<i>{T}</i>(f::<b>Function</b>, f_prime::<b>Function</b>, xx::<b>Array{ValidatedNumerics.Interval{T},1}</b>) at <a href=\"https://github.com/dpsanders/ValidatedNumerics.jl/tree/3f722df01a93204d9d7990749227bd3520db2780/src/root_finding/newton.jl#L142\" target=\"_blank\">/Users/blaskolic/.julia/v0.4/ValidatedNumerics/src/root_finding/newton.jl:142</a><li> newton<i>{T}</i>(f::<b>Function</b>, xx::<b>Array{ValidatedNumerics.Interval{T},1}</b>, level) at <a href=\"https://github.com/dpsanders/ValidatedNumerics.jl/tree/3f722df01a93204d9d7990749227bd3520db2780/src/root_finding/newton.jl#L146\" target=\"_blank\">/Users/blaskolic/.julia/v0.4/ValidatedNumerics/src/root_finding/newton.jl:146</a><li> newton<i>{T}</i>(f::<b>Function</b>, xx::<b>Array{ValidatedNumerics.Root{T},1}</b>) at <a href=\"https://github.com/dpsanders/ValidatedNumerics.jl/tree/3f722df01a93204d9d7990749227bd3520db2780/src/root_finding/newton.jl#L150\" target=\"_blank\">/Users/blaskolic/.julia/v0.4/ValidatedNumerics/src/root_finding/newton.jl:150</a></ul>"
      ],
      "text/plain": [
       "# 6 methods for generic function \"newton\":\n",
       "newton{T}(f::Function, f_prime::Function, x::ValidatedNumerics.Interval{T}) at /Users/blaskolic/.julia/v0.4/ValidatedNumerics/src/root_finding/newton.jl:64\n",
       "newton{T}(f::Function, f_prime::Function, x::ValidatedNumerics.Interval{T}, level::Int64) at /Users/blaskolic/.julia/v0.4/ValidatedNumerics/src/root_finding/newton.jl:64\n",
       "newton{T}(f::Function, x::ValidatedNumerics.Interval{T}) at /Users/blaskolic/.julia/v0.4/ValidatedNumerics/src/root_finding/newton.jl:137\n",
       "newton{T}(f::Function, f_prime::Function, xx::Array{ValidatedNumerics.Interval{T},1}) at /Users/blaskolic/.julia/v0.4/ValidatedNumerics/src/root_finding/newton.jl:142\n",
       "newton{T}(f::Function, xx::Array{ValidatedNumerics.Interval{T},1}, level) at /Users/blaskolic/.julia/v0.4/ValidatedNumerics/src/root_finding/newton.jl:146\n",
       "newton{T}(f::Function, xx::Array{ValidatedNumerics.Root{T},1}) at /Users/blaskolic/.julia/v0.4/ValidatedNumerics/src/root_finding/newton.jl:150"
      ]
     },
     "execution_count": 85,
     "metadata": {},
     "output_type": "execute_result"
    }
   ],
   "source": [
    "methods(newton)"
   ]
  },
  {
   "cell_type": "code",
   "execution_count": 105,
   "metadata": {
    "collapsed": false
   },
   "outputs": [
    {
     "data": {
      "text/plain": [
       "ValidatedNumerics.Jet{Float64}(-3.5464102067039848e-6,-3.1449999999802225)"
      ]
     },
     "execution_count": 105,
     "metadata": {},
     "output_type": "execute_result"
    }
   ],
   "source": [
    "sin(ValidatedNumerics.Jet(3.1415962,3.145))"
   ]
  },
  {
   "cell_type": "markdown",
   "metadata": {
    "collapsed": true
   },
   "source": [
    "So, it seems that, despite all the complications, we do get *all* 18 roots properly, and within a reasonable time."
   ]
  },
  {
   "cell_type": "code",
   "execution_count": 30,
   "metadata": {
    "collapsed": false
   },
   "outputs": [
    {
     "name": "stdout",
     "output_type": "stream",
     "text": [
      "  "
     ]
    },
    {
     "data": {
      "text/plain": [
       "1-element Array{ValidatedNumerics.Root{Float64},1}:\n",
       " Root([1.0, 1.0], :unique)"
      ]
     },
     "execution_count": 30,
     "metadata": {},
     "output_type": "execute_result"
    },
    {
     "name": "stdout",
     "output_type": "stream",
     "text": [
      "0.186045 seconds (131.92 k allocations: 5.962 MB)\n"
     ]
    }
   ],
   "source": [
    "# For compilation\n",
    "@time krawczyk(x->x-1, Interval(-2.0,2.0))"
   ]
  },
  {
   "cell_type": "code",
   "execution_count": 33,
   "metadata": {
    "collapsed": false
   },
   "outputs": [
    {
     "name": "stdout",
     "output_type": "stream",
     "text": [
      " 13.338914 seconds (99.69 M allocations: 2.670 GB, 5.97% gc time)\n"
     ]
    }
   ],
   "source": [
    "@time krawczyk(gritton_pol,Interval(-12.0,8.0));"
   ]
  },
  {
   "cell_type": "code",
   "execution_count": 32,
   "metadata": {
    "collapsed": false
   },
   "outputs": [
    {
     "data": {
      "text/plain": [
       "18-element Array{ValidatedNumerics.Root{Float64},1}:\n",
       " Root([-11.09298925857108, -11.092989258571064], :unique)   \n",
       " Root([-6.242206062881782, -6.242206062881754], :unique)    \n",
       " Root([-4.990081472925714, -4.990081472925682], :unique)    \n",
       " Root([-3.691103192561981, -3.6911031925619713], :unique)   \n",
       " Root([-1.942591312150229, -1.942591312150227], :unique)    \n",
       " Root([-0.33237615420629324, -0.3323761542062923], :unique) \n",
       " Root([-0.27746547288962636, -0.27746547288962575], :unique)\n",
       " Root([0.8459546664680279, 0.8459546664681231], :unique)    \n",
       " Root([1.381098858805655, 1.3810988589429898], :unique)     \n",
       " Root([1.4799484845558426, 1.47994848512911], :unique)      \n",
       " Root([1.5935961615396912, 1.5935961624058959], :unique)    \n",
       " Root([1.7520425359321339, 1.752042536750461], :unique)     \n",
       " Root([1.9669362119351448, 1.9669362123465397], :unique)    \n",
       " Root([2.285954643776273, 2.2859546439464458], :unique)     \n",
       " Root([2.741429805284924, 2.741429805325737], :unique)      \n",
       " Root([3.5414667206451416, 3.5414667206501704], :unique)    \n",
       " Root([4.880193708542036, 4.880193708542868], :unique)      \n",
       " Root([6.9579353655608065, 6.957935365560916], :unique)     "
      ]
     },
     "execution_count": 32,
     "metadata": {},
     "output_type": "execute_result"
    },
    {
     "name": "stdout",
     "output_type": "stream",
     "text": [
      ".365062 seconds (99.70 M allocations: 2.670 GB, 5.77% gc time)\n"
     ]
    }
   ],
   "source": [
    "ans"
   ]
  }
 ],
 "metadata": {
  "kernelspec": {
   "display_name": "Julia 0.4.2-pre",
   "language": "julia",
   "name": "julia-0.4"
  },
  "language_info": {
   "file_extension": ".jl",
   "mimetype": "application/julia",
   "name": "julia",
   "version": "0.4.2"
  }
 },
 "nbformat": 4,
 "nbformat_minor": 0
}
