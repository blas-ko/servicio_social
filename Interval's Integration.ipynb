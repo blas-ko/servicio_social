{
 "cells": [
  {
   "cell_type": "markdown",
   "metadata": {
    "collapsed": true
   },
   "source": [
    "# <center> Integrals with Intervals "
   ]
  },
  {
   "cell_type": "markdown",
   "metadata": {},
   "source": [
    "For a quick familiarization with the `ValidatedNumerics` package, the objective of this notebook is calculate an integral via Riemann sums, where two different implementations are defined using intervals. `Riemann_sums` and `Riemann_sums2` calculate the integral of a function in a given bound over a given number of partitions.\n",
    "\n",
    "\n",
    "The idea is that the error `diam(Riemann_sums_n)` $\\to$ `eps()` when `num_partitions` $\\to \\infty$ , we will be able to confirm that the integral is between the interval output of `Riemann_sums_n`.\n",
    "\n",
    "**NOTE:** Because of the interval arithmetics, an overestimation of the diameter of the intervals is set for each operation made."
   ]
  },
  {
   "cell_type": "markdown",
   "metadata": {},
   "source": [
    "Let be $ \\mathbf{f} : [a,b] \\subset \\mathbb{R} \\to \\mathbb{R} $ and $\\mathbf{P} = \\{a:\\frac{b-a}{N}:b\\}$ an homogeneous partition of $[a,b]$ of $N$ subintervals."
   ]
  },
  {
   "cell_type": "markdown",
   "metadata": {},
   "source": [
    "This way, we can define the **left Riemann sum** $S_l$ and **right Riemann sum** $S_r$ as\n",
    "\\begin{array}.\n",
    "S_l &=& \\sum_{i=1}^{n} f(x_{i-1})(x_{i}-x_{i-1})  \\\\\n",
    "S_r &=& \\sum_{i=1}^{n} f(x_i)(x_{i}-x_{i-1}).\n",
    "\\end{array}\n",
    "\n",
    "The integral $I$, in case of existing, will be bounded by\n",
    "$$ I \\in \\{ \\min(S_l,S_r) , \\max(S_l,S_r) \\} $$ \n",
    " \n",
    "Thigther this bound, better the approximation."
   ]
  },
  {
   "cell_type": "code",
   "execution_count": 1,
   "metadata": {
    "collapsed": true
   },
   "outputs": [],
   "source": [
    "using ValidatedNumerics"
   ]
  },
  {
   "cell_type": "code",
   "execution_count": 2,
   "metadata": {
    "collapsed": false
   },
   "outputs": [
    {
     "data": {
      "text/plain": [
       "Riemann_sums (generic function with 1 method)"
      ]
     },
     "execution_count": 2,
     "metadata": {},
     "output_type": "execute_result"
    }
   ],
   "source": [
    "function Riemann_sums(f::Function,I::Vector,num_partitions::Int) \n",
    "    a, b = I\n",
    "    dx = (b-a)/num_partitions\n",
    "    S = 0 #initialize S variable\n",
    "    for i in 1:num_partitions\n",
    "        S += f(@interval(a + (i-1)*dx,a + i*dx))*dx\n",
    "    end\n",
    "    return S\n",
    "end"
   ]
  },
  {
   "cell_type": "code",
   "execution_count": 3,
   "metadata": {
    "collapsed": false
   },
   "outputs": [
    {
     "data": {
      "text/plain": [
       "Riemann_sums2 (generic function with 1 method)"
      ]
     },
     "execution_count": 3,
     "metadata": {},
     "output_type": "execute_result"
    }
   ],
   "source": [
    "function Riemann_sums2(f::Function,I::Vector,num_partitions::Int) \n",
    "    a, b = I\n",
    "    dx = (b-a)/num_partitions\n",
    "    dx_int = @interval(dx)\n",
    "    S = 0 #initialize S variable\n",
    "    for i in 1:num_partitions\n",
    "        S += f(a + (i-1/2)*dx_int)*dx\n",
    "    end\n",
    "    return S\n",
    "end"
   ]
  },
  {
   "cell_type": "markdown",
   "metadata": {},
   "source": [
    "### Example 1: $f(x) = 2x$"
   ]
  },
  {
   "cell_type": "markdown",
   "metadata": {},
   "source": [
    "We know that $ \\int_{0}^{1} 2x \\ dx = 1 $, so the computer's integral $I$, must be in the minimum interval containing 1, ie, `I = @interval(1)`"
   ]
  },
  {
   "cell_type": "code",
   "execution_count": 4,
   "metadata": {
    "collapsed": false
   },
   "outputs": [
    {
     "data": {
      "text/plain": [
       "20000"
      ]
     },
     "execution_count": 4,
     "metadata": {},
     "output_type": "execute_result"
    }
   ],
   "source": [
    "num_part = 20000"
   ]
  },
  {
   "cell_type": "code",
   "execution_count": 5,
   "metadata": {
    "collapsed": false,
    "scrolled": true
   },
   "outputs": [
    {
     "data": {
      "text/plain": [
       "f (generic function with 1 method)"
      ]
     },
     "execution_count": 5,
     "metadata": {},
     "output_type": "execute_result"
    }
   ],
   "source": [
    "f(x) = 2x "
   ]
  },
  {
   "cell_type": "code",
   "execution_count": 25,
   "metadata": {
    "collapsed": false,
    "scrolled": true
   },
   "outputs": [
    {
     "name": "stdout",
     "output_type": "stream",
     "text": [
      "  "
     ]
    },
    {
     "data": {
      "text/plain": [
       "[0.9999499999994967, 1.0000500000005035]"
      ]
     },
     "execution_count": 25,
     "metadata": {},
     "output_type": "execute_result"
    }
   ],
   "source": [
    "bounds = [0,1]\n",
    "@time S_f = Riemann_sums(f,bounds,num_part)"
   ]
  },
  {
   "cell_type": "code",
   "execution_count": 26,
   "metadata": {
    "collapsed": false
   },
   "outputs": [
    {
     "name": "stdout",
     "output_type": "stream",
     "text": [
      "1.101969 seconds (6.28 M allocations: 169.921 MB, 5.71% gc time)\n",
      "  "
     ]
    },
    {
     "data": {
      "text/plain": [
       "[0.9999999999994968, 1.0000000000005034]"
      ]
     },
     "execution_count": 26,
     "metadata": {},
     "output_type": "execute_result"
    },
    {
     "name": "stdout",
     "output_type": "stream",
     "text": [
      "0.634024 seconds (3.18 M allocations: 86.668 MB, 4.85% gc time)\n"
     ]
    }
   ],
   "source": [
    "@time S_f2 = Riemann_sums2(f,bounds,num_part)"
   ]
  },
  {
   "cell_type": "code",
   "execution_count": 8,
   "metadata": {
    "collapsed": false
   },
   "outputs": [
    {
     "data": {
      "text/plain": [
       "true"
      ]
     },
     "execution_count": 8,
     "metadata": {},
     "output_type": "execute_result"
    }
   ],
   "source": [
    "# ⪽ == ValidatedNumerics.interior::function\n",
    "I_f = @interval(1)\n",
    "I_f ⪽ S_f"
   ]
  },
  {
   "cell_type": "code",
   "execution_count": 9,
   "metadata": {
    "collapsed": false
   },
   "outputs": [
    {
     "data": {
      "text/plain": [
       "true"
      ]
     },
     "execution_count": 9,
     "metadata": {},
     "output_type": "execute_result"
    }
   ],
   "source": [
    "I_f ⪽ S_f2"
   ]
  },
  {
   "cell_type": "code",
   "execution_count": 32,
   "metadata": {
    "collapsed": false
   },
   "outputs": [
    {
     "data": {
      "text/plain": [
       "(0.0,0.00010000000100673923,1.006528194125167e-12)"
      ]
     },
     "execution_count": 32,
     "metadata": {},
     "output_type": "execute_result"
    }
   ],
   "source": [
    "diam(I_f) , diam(S_f) , diam(S_f2)"
   ]
  },
  {
   "cell_type": "code",
   "execution_count": 11,
   "metadata": {
    "collapsed": false
   },
   "outputs": [
    {
     "data": {
      "text/plain": [
       "(true,false)"
      ]
     },
     "execution_count": 11,
     "metadata": {},
     "output_type": "execute_result"
    }
   ],
   "source": [
    "#Comparison between `Riemann_sums` implementations \n",
    "S_f2 ⪽ S_f , S_f ⪽ S_f2 "
   ]
  },
  {
   "cell_type": "markdown",
   "metadata": {},
   "source": [
    "### Example 2 $cos(x)$ "
   ]
  },
  {
   "cell_type": "markdown",
   "metadata": {},
   "source": [
    "$$ \\int_0^{2\\pi} cos(x) \\ dx = 0 $$ "
   ]
  },
  {
   "cell_type": "code",
   "execution_count": 27,
   "metadata": {
    "collapsed": false
   },
   "outputs": [
    {
     "name": "stdout",
     "output_type": "stream",
     "text": [
      "  "
     ]
    },
    {
     "data": {
      "text/plain": [
       "[-0.0006283185315984867, 0.0006283185315919266]"
      ]
     },
     "execution_count": 27,
     "metadata": {},
     "output_type": "execute_result"
    }
   ],
   "source": [
    "bounds_cos = [0,2pi]\n",
    "@time S_cos = Riemann_sums(cos,bounds_cos,num_part)"
   ]
  },
  {
   "cell_type": "code",
   "execution_count": 28,
   "metadata": {
    "collapsed": false,
    "scrolled": true
   },
   "outputs": [
    {
     "name": "stdout",
     "output_type": "stream",
     "text": [
      "1.903168 seconds (9.18 M allocations: 251.674 MB, 4.43% gc time)\n",
      "  "
     ]
    },
    {
     "data": {
      "text/plain": [
       "[-8.685660155514918e-13, 8.675918598995136e-13]"
      ]
     },
     "execution_count": 28,
     "metadata": {},
     "output_type": "execute_result"
    },
    {
     "name": "stdout",
     "output_type": "stream",
     "text": [
      "1.353820 seconds (6.20 M allocations: 170.252 MB, 4.49% gc time)\n"
     ]
    }
   ],
   "source": [
    "@time S_cos2 = Riemann_sums2(cos,bounds_cos,num_part)"
   ]
  },
  {
   "cell_type": "code",
   "execution_count": 14,
   "metadata": {
    "collapsed": false
   },
   "outputs": [
    {
     "data": {
      "text/plain": [
       "true"
      ]
     },
     "execution_count": 14,
     "metadata": {},
     "output_type": "execute_result"
    }
   ],
   "source": [
    "I_cos = @interval(0)\n",
    "I_cos ⪽ S_cos"
   ]
  },
  {
   "cell_type": "code",
   "execution_count": 15,
   "metadata": {
    "collapsed": false
   },
   "outputs": [
    {
     "data": {
      "text/plain": [
       "true"
      ]
     },
     "execution_count": 15,
     "metadata": {},
     "output_type": "execute_result"
    }
   ],
   "source": [
    "I_cos ⪽ S_cos2"
   ]
  },
  {
   "cell_type": "code",
   "execution_count": 16,
   "metadata": {
    "collapsed": false
   },
   "outputs": [
    {
     "data": {
      "text/plain": [
       "(0.0,0.0012566370631904133,1.7361578754510054e-12)"
      ]
     },
     "execution_count": 16,
     "metadata": {},
     "output_type": "execute_result"
    }
   ],
   "source": [
    "diam(I_cos) , diam(S_cos) , diam(S_cos2)"
   ]
  },
  {
   "cell_type": "code",
   "execution_count": 17,
   "metadata": {
    "collapsed": false
   },
   "outputs": [
    {
     "data": {
      "text/plain": [
       "(true,false)"
      ]
     },
     "execution_count": 17,
     "metadata": {},
     "output_type": "execute_result"
    }
   ],
   "source": [
    "#Comparison between `Riemann_sums` implementations \n",
    "S_cos2 ⪽ S_cos , S_cos ⪽ S_cos2  "
   ]
  },
  {
   "cell_type": "markdown",
   "metadata": {},
   "source": [
    "### Example 3: $G(x) = e^{-x^2} $"
   ]
  },
  {
   "cell_type": "markdown",
   "metadata": {},
   "source": [
    "This is the Gaussian function which is not analytical, but it can be proved that \n",
    "$$ \\int_{-\\infty}^{\\infty} e^{-x^2} dx = \\sqrt{\\pi} $$ "
   ]
  },
  {
   "cell_type": "code",
   "execution_count": 18,
   "metadata": {
    "collapsed": false
   },
   "outputs": [
    {
     "data": {
      "text/plain": [
       "Gauss (generic function with 1 method)"
      ]
     },
     "execution_count": 18,
     "metadata": {},
     "output_type": "execute_result"
    }
   ],
   "source": [
    "Gauss(x) = exp(-x^2)\n",
    "# obs: Gauss(|x|>28) == 0 for computer"
   ]
  },
  {
   "cell_type": "code",
   "execution_count": 29,
   "metadata": {
    "collapsed": false
   },
   "outputs": [
    {
     "name": "stdout",
     "output_type": "stream",
     "text": [
      "  "
     ]
    },
    {
     "data": {
      "text/plain": [
       "[1.7696538509052664, 1.7752538509075266]"
      ]
     },
     "execution_count": 29,
     "metadata": {},
     "output_type": "execute_result"
    }
   ],
   "source": [
    "bounds_G = [-28,28]\n",
    "@time S_gauss = Riemann_sums(Gauss,bounds_G,num_part)"
   ]
  },
  {
   "cell_type": "code",
   "execution_count": 30,
   "metadata": {
    "collapsed": false
   },
   "outputs": [
    {
     "name": "stdout",
     "output_type": "stream",
     "text": [
      "1.350612 seconds (6.69 M allocations: 179.230 MB, 5.53% gc time)\n",
      "  "
     ]
    },
    {
     "data": {
      "text/plain": [
       "[1.77245385090527, 1.7724538509075314]"
      ]
     },
     "execution_count": 30,
     "metadata": {},
     "output_type": "execute_result"
    },
    {
     "name": "stdout",
     "output_type": "stream",
     "text": [
      "0.686782 seconds (3.67 M allocations: 99.638 MB, 6.28% gc time)\n"
     ]
    }
   ],
   "source": [
    "@time S_gauss2 = Riemann_sums2(Gauss,bounds_G,num_part)"
   ]
  },
  {
   "cell_type": "code",
   "execution_count": 21,
   "metadata": {
    "collapsed": false
   },
   "outputs": [
    {
     "data": {
      "text/plain": [
       "true"
      ]
     },
     "execution_count": 21,
     "metadata": {},
     "output_type": "execute_result"
    }
   ],
   "source": [
    "I_G = @interval(sqrt(pi))\n",
    "I_G ⪽ S_gauss"
   ]
  },
  {
   "cell_type": "code",
   "execution_count": 22,
   "metadata": {
    "collapsed": false
   },
   "outputs": [
    {
     "data": {
      "text/plain": [
       "true"
      ]
     },
     "execution_count": 22,
     "metadata": {},
     "output_type": "execute_result"
    }
   ],
   "source": [
    "I_G ⪽ S_gauss2"
   ]
  },
  {
   "cell_type": "code",
   "execution_count": 23,
   "metadata": {
    "collapsed": false
   },
   "outputs": [
    {
     "data": {
      "text/plain": [
       "(4.440892098500626e-16,0.005600000002260241,2.261302256556519e-12)"
      ]
     },
     "execution_count": 23,
     "metadata": {},
     "output_type": "execute_result"
    }
   ],
   "source": [
    "diam(I_G) , diam(S_gauss) , diam(S_gauss2)"
   ]
  },
  {
   "cell_type": "code",
   "execution_count": 31,
   "metadata": {
    "collapsed": false
   },
   "outputs": [
    {
     "data": {
      "text/plain": [
       "(true,false)"
      ]
     },
     "execution_count": 31,
     "metadata": {},
     "output_type": "execute_result"
    }
   ],
   "source": [
    "#Comparison between `Riemann_sums` implementations \n",
    "S_gauss2 ⪽ S_gauss , S_gauss ⪽ S_gauss2 "
   ]
  },
  {
   "cell_type": "markdown",
   "metadata": {},
   "source": [
    "The interval integrator works without flaws and actually contains the real result of the integral within the interval limits. `Riemann_sums2` turned out to be much better than `Riemann_sums` in terms of time, memory and interval overestimation.  "
   ]
  }
 ],
 "metadata": {
  "kernelspec": {
   "display_name": "Julia 0.4.2-pre",
   "language": "julia",
   "name": "julia-0.4"
  },
  "language_info": {
   "file_extension": ".jl",
   "mimetype": "application/julia",
   "name": "julia",
   "version": "0.4.2"
  }
 },
 "nbformat": 4,
 "nbformat_minor": 0
}
