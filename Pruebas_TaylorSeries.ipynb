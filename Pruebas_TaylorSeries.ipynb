{
 "cells": [
  {
   "cell_type": "code",
   "execution_count": 6,
   "metadata": {
    "collapsed": false
   },
   "outputs": [],
   "source": [
    "TAYLOR_PATH = \"/home/blas/servicio/TaylorSeries.jl/src\"\n",
    "push!(LOAD_PATH,TAYLOR_PATH)\n",
    "\n",
    "using TaylorSeries2"
   ]
  },
  {
   "cell_type": "markdown",
   "metadata": {},
   "source": [
    "Para la documentación, vamos a necesitar las fórmulas generales de recursión, las cuales estarán indicadas al estilo Markdown en todos los `HomogPol` dentro de `Taylor1.jl` y `TaylorN.jl`."
   ]
  },
  {
   "cell_type": "markdown",
   "metadata": {},
   "source": [
    "<img src=\"TaylorExpansions.png\"> "
   ]
  },
  {
   "cell_type": "code",
   "execution_count": null,
   "metadata": {
    "collapsed": true
   },
   "outputs": [],
   "source": []
  }
 ],
 "metadata": {
  "kernelspec": {
   "display_name": "Julia 0.4.2",
   "language": "julia",
   "name": "julia-0.4"
  },
  "language_info": {
   "file_extension": ".jl",
   "mimetype": "application/julia",
   "name": "julia",
   "version": "0.4.2"
  }
 },
 "nbformat": 4,
 "nbformat_minor": 0
}
