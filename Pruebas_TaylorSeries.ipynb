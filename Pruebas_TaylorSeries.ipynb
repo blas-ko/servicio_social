{
 "cells": [
  {
   "cell_type": "code",
   "execution_count": 1,
   "metadata": {
    "collapsed": false
   },
   "outputs": [],
   "source": [
    "#We create the path, that is \"servicio_social\" behind on directories\n",
    "TAYLOR_PATH = pwd() \n",
    "for i in 1:15\n",
    "    TAYLOR_PATH = chop(TAYLOR_PATH)\n",
    "end\n",
    "\n",
    "TAYLOR_PATH = TAYLOR_PATH * \"TaylorSeries.jl/src\"\n",
    "push!(LOAD_PATH,TAYLOR_PATH)\n",
    "\n",
    "using TaylorSeries2"
   ]
  },
  {
   "cell_type": "code",
   "execution_count": 2,
   "metadata": {
    "collapsed": false
   },
   "outputs": [
    {
     "data": {
      "text/latex": [
       "Let be \\texttt{f(x)}  and \\texttt{g(x)} analitical functions, then, the \\textbf{\\texttt{k-th} expansion coefficient} of \\texttt{d(x) = f(x) / g(x)} is\n",
       "<center> \\texttt{dₖ = 1/g₀ (fₖ  -  ∑ᵏ⁻ⁱ dⱼ gₖ₋ⱼ)}.\n"
      ],
      "text/markdown": [
       "Let be `f(x)`  and `g(x)` analitical functions, then, the **`k-th` expansion coefficient** of `d(x) = f(x) / g(x)` is\n",
       "\n",
       "<center> `dₖ = 1/g₀ (fₖ  -  ∑ᵏ⁻ⁱ dⱼ gₖ₋ⱼ)`.\n"
      ],
      "text/plain": [
       "Let be `f(x)`  and `g(x)` analitical functions, then, the **`k-th` expansion coefficient** of `d(x) = f(x) / g(x)` is\n",
       "\n",
       "<center> `dₖ = 1/g₀ (fₖ  -  ∑ᵏ⁻ⁱ dⱼ gₖ₋ⱼ)`.\n"
      ]
     },
     "execution_count": 2,
     "metadata": {},
     "output_type": "execute_result"
    }
   ],
   "source": [
    "? TaylorSeries2.divHomogCoef"
   ]
  },
  {
   "cell_type": "code",
   "execution_count": 3,
   "metadata": {
    "collapsed": false
   },
   "outputs": [
    {
     "data": {
      "text/latex": [
       "Let be \\texttt{f(x)} an analitical function, then, the \\textbf{\\texttt{k-th} expansion coefficient} of \\texttt{p(x) = f(x)ᵝ} is\n",
       "<center> \\texttt{pₖ = 1/(kf₀) ∑ᵏ⁻ⁱ(β(k-j) -j)fₖ₋ⱼ pⱼ)}.\n"
      ],
      "text/markdown": [
       "Let be `f(x)` an analitical function, then, the **`k-th` expansion coefficient** of `p(x) = f(x)ᵝ` is\n",
       "\n",
       "<center> `pₖ = 1/(kf₀) ∑ᵏ⁻ⁱ(β(k-j) -j)fₖ₋ⱼ pⱼ)`.\n"
      ],
      "text/plain": [
       "Let be `f(x)` an analitical function, then, the **`k-th` expansion coefficient** of `p(x) = f(x)ᵝ` is\n",
       "\n",
       "<center> `pₖ = 1/(kf₀) ∑ᵏ⁻ⁱ(β(k-j) -j)fₖ₋ⱼ pⱼ)`.\n"
      ]
     },
     "execution_count": 3,
     "metadata": {},
     "output_type": "execute_result"
    }
   ],
   "source": [
    "? TaylorSeries2.powHomogCoef"
   ]
  },
  {
   "cell_type": "markdown",
   "metadata": {},
   "source": [
    "Para la documentación, vamos a necesitar las fórmulas generales de recursión, las cuales estarán indicadas al estilo Markdown en todos los `HomogPol` dentro de `Taylor1.jl` y `TaylorN.jl`."
   ]
  },
  {
   "cell_type": "markdown",
   "metadata": {},
   "source": [
    "<img src=\"TaylorExpansions.png\"> "
   ]
  }
 ],
 "metadata": {
  "kernelspec": {
   "display_name": "Julia 0.4.2",
   "language": "julia",
   "name": "julia-0.4"
  },
  "language_info": {
   "file_extension": ".jl",
   "mimetype": "application/julia",
   "name": "julia",
   "version": "0.4.2"
  }
 },
 "nbformat": 4,
 "nbformat_minor": 0
}
