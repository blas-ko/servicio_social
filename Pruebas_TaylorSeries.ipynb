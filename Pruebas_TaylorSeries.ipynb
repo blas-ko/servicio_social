{
 "cells": [
  {
   "cell_type": "code",
   "execution_count": 1,
   "metadata": {
    "collapsed": false
   },
   "outputs": [],
   "source": [
    "#We create the path, that is \"servicio_social\" behind on directories\n",
    "TAYLOR_PATH = pwd() \n",
    "for i in 1:15\n",
    "    TAYLOR_PATH = chop(TAYLOR_PATH)\n",
    "end\n",
    "\n",
    "TAYLOR_PATH = TAYLOR_PATH * \"TaylorSeries.jl/src\"\n",
    "push!(LOAD_PATH,TAYLOR_PATH)\n",
    "\n",
    "using TaylorSeries2\n"
   ]
  },
  {
   "cell_type": "markdown",
   "metadata": {},
   "source": [
    "### Some function extensions "
   ]
  },
  {
   "cell_type": "code",
   "execution_count": 3,
   "metadata": {
    "collapsed": false
   },
   "outputs": [
    {
     "name": "stdout",
     "output_type": "stream",
     "text": [
      "search: tan tanh tand atan atanh atand atan2 instances transpose transpose!\n",
      "\n"
     ]
    },
    {
     "data": {
      "text/latex": [
       "\\begin{verbatim}\n",
       "tan(x)\n",
       "\\end{verbatim}\n",
       "Compute tangent of \\texttt{x}, where \\texttt{x} is in radians\n",
       "\\begin{verbatim}\n",
       "tan(a)\n",
       "\\end{verbatim}\n",
       "Computes the tangent's expansion of \\texttt{a} of order \\texttt{a.order} as a \\texttt{Taylor1} object for \\texttt{a::Taylor1}.\n"
      ],
      "text/markdown": [
       "```\n",
       "tan(x)\n",
       "```\n",
       "\n",
       "Compute tangent of `x`, where `x` is in radians\n",
       "\n",
       "```\n",
       "tan(a)\n",
       "```\n",
       "\n",
       "Computes the tangent's expansion of `a` of order `a.order` as a `Taylor1` object for `a::Taylor1`.\n"
      ],
      "text/plain": [
       "```\n",
       "tan(x)\n",
       "```\n",
       "\n",
       "Compute tangent of `x`, where `x` is in radians\n",
       "\n",
       "```\n",
       "tan(a)\n",
       "```\n",
       "\n",
       "Computes the tangent's expansion of `a` of order `a.order` as a `Taylor1` object for `a::Taylor1`.\n"
      ]
     },
     "execution_count": 3,
     "metadata": {},
     "output_type": "execute_result"
    }
   ],
   "source": [
    "? tan"
   ]
  },
  {
   "cell_type": "code",
   "execution_count": 4,
   "metadata": {
    "collapsed": false
   },
   "outputs": [
    {
     "name": "stdout",
     "output_type": "stream",
     "text": [
      "search: cos cosh cosd cosc cospi acos acosh acosd const consume cross close\n",
      "\n"
     ]
    },
    {
     "data": {
      "text/latex": [
       "\\begin{verbatim}\n",
       "cos(x)\n",
       "\\end{verbatim}\n",
       "Compute cosine of \\texttt{x}, where \\texttt{x} is in radians\n",
       "\\begin{verbatim}\n",
       "cos(a)\n",
       "\\end{verbatim}\n",
       "Computes the cosine's expansion of \\texttt{a} of order \\texttt{a.order} as a \\texttt{Taylor1} object for \\texttt{a::Taylor1}.\n"
      ],
      "text/markdown": [
       "```\n",
       "cos(x)\n",
       "```\n",
       "\n",
       "Compute cosine of `x`, where `x` is in radians\n",
       "\n",
       "```\n",
       "cos(a)\n",
       "```\n",
       "\n",
       "Computes the cosine's expansion of `a` of order `a.order` as a `Taylor1` object for `a::Taylor1`.\n"
      ],
      "text/plain": [
       "```\n",
       "cos(x)\n",
       "```\n",
       "\n",
       "Compute cosine of `x`, where `x` is in radians\n",
       "\n",
       "```\n",
       "cos(a)\n",
       "```\n",
       "\n",
       "Computes the cosine's expansion of `a` of order `a.order` as a `Taylor1` object for `a::Taylor1`.\n"
      ]
     },
     "execution_count": 4,
     "metadata": {},
     "output_type": "execute_result"
    }
   ],
   "source": [
    "? cos"
   ]
  },
  {
   "cell_type": "code",
   "execution_count": 5,
   "metadata": {
    "collapsed": false
   },
   "outputs": [
    {
     "name": "stdout",
     "output_type": "stream",
     "text": [
      "search: ^ .^\n",
      "\n"
     ]
    },
    {
     "data": {
      "text/latex": [
       "\\begin{verbatim}\n",
       "^(x, y)\n",
       "\\end{verbatim}\n",
       "Exponentiation operator.\n",
       "\\begin{verbatim}\n",
       "^(s, n)\n",
       "\\end{verbatim}\n",
       "Repeat \\texttt{n} times the string \\texttt{s}. The \\texttt{repeat} function is an alias to this operator.\n",
       "\\begin{verbatim}\n",
       "julia> \"Test \"^3\n",
       "\"Test Test Test \"\n",
       "\\end{verbatim}\n",
       "\\begin{verbatim}\n",
       "^(a, x)\n",
       "\\end{verbatim}\n",
       "Computes \\texttt{a^x} as a \\texttt{Taylor1} object with \\texttt{a::Taylor1} and \\texttt{x::Number}.\n",
       "<br> If \\texttt{x::Real} and the 0th order coefficient is non-zero, an \\texttt{ArgumentError} is thrown.\n"
      ],
      "text/markdown": [
       "```\n",
       "^(x, y)\n",
       "```\n",
       "\n",
       "Exponentiation operator.\n",
       "\n",
       "```\n",
       "^(s, n)\n",
       "```\n",
       "\n",
       "Repeat `n` times the string `s`. The `repeat` function is an alias to this operator.\n",
       "\n",
       "```jldoctest\n",
       "julia> \"Test \"^3\n",
       "\"Test Test Test \"\n",
       "```\n",
       "\n",
       "```\n",
       "^(a, x)\n",
       "```\n",
       "\n",
       "Computes `a^x` as a `Taylor1` object with `a::Taylor1` and `x::Number`.\n",
       "\n",
       "<br> If `x::Real` and the 0th order coefficient is non-zero, an `ArgumentError` is thrown.\n"
      ],
      "text/plain": [
       "```\n",
       "^(x, y)\n",
       "```\n",
       "\n",
       "Exponentiation operator.\n",
       "\n",
       "```\n",
       "^(s, n)\n",
       "```\n",
       "\n",
       "Repeat `n` times the string `s`. The `repeat` function is an alias to this operator.\n",
       "\n",
       "```jldoctest\n",
       "julia> \"Test \"^3\n",
       "\"Test Test Test \"\n",
       "```\n",
       "\n",
       "```\n",
       "^(a, x)\n",
       "```\n",
       "\n",
       "Computes `a^x` as a `Taylor1` object with `a::Taylor1` and `x::Number`.\n",
       "\n",
       "<br> If `x::Real` and the 0th order coefficient is non-zero, an `ArgumentError` is thrown.\n"
      ]
     },
     "execution_count": 5,
     "metadata": {},
     "output_type": "execute_result"
    }
   ],
   "source": [
    "? ^"
   ]
  },
  {
   "cell_type": "markdown",
   "metadata": {},
   "source": [
    "### Some HomogCoef recurrencies"
   ]
  },
  {
   "cell_type": "code",
   "execution_count": 6,
   "metadata": {
    "collapsed": false
   },
   "outputs": [
    {
     "data": {
      "text/latex": [
       "Computes the \\textbf{\\texttt{k-th} expansion coefficient} of $s(x) = \\sqrt{f(x)}$ as\n",
       "<center> \\$ s\\_k = {\\textbackslash}frac\\{1\\}\\{2 s\\_0\\} ( f\\_k - 2 {\\textbackslash}sum\\_\\{j=0\\}\\^{}\\{(k-1)/2\\} s\\_\\{k-j\\}s\\_j ) \\$ </center>\n",
       "when \\texttt{k} is \\textbf{odd},\n",
       "<center> \\$ s\\_k = {\\textbackslash}frac\\{1\\}\\{2 s\\_0\\} ( f\\_k - 2 {\\textbackslash}sum\\_\\{j=0\\}\\^{}\\{(k2-)/2\\} ( s\\_\\{k-j\\}s\\_j - (s\\_\\{k/2\\})\\^{}2 ) \\$ </center>\n",
       "when \\texttt{k}is \\textbf{even},\n",
       "with $f(x)$ an analitical function.\n"
      ],
      "text/markdown": [
       "Computes the **`k-th` expansion coefficient** of $s(x) = \\sqrt{f(x)}$ as\n",
       "\n",
       "<center> $ s_k = \\frac{1}{2 s_0} ( f_k - 2 \\sum_{j=0}^{(k-1)/2} s_{k-j}s_j ) $ </center>\n",
       "\n",
       "when `k` is **odd**,\n",
       "\n",
       "<center> $ s_k = \\frac{1}{2 s_0} ( f_k - 2 \\sum_{j=0}^{(k2-)/2} ( s_{k-j}s_j - (s_{k/2})^2 ) $ </center>\n",
       "\n",
       "when `k`is **even**,\n",
       "\n",
       "with $f(x)$ an analitical function.\n"
      ],
      "text/plain": [
       "Computes the **`k-th` expansion coefficient** of $s(x) = \\sqrt{f(x)}$ as\n",
       "\n",
       "<center> $ s_k = \\frac{1}{2 s_0} ( f_k - 2 \\sum_{j=0}^{(k-1)/2} s_{k-j}s_j ) $ </center>\n",
       "\n",
       "when `k` is **odd**,\n",
       "\n",
       "<center> $ s_k = \\frac{1}{2 s_0} ( f_k - 2 \\sum_{j=0}^{(k2-)/2} ( s_{k-j}s_j - (s_{k/2})^2 ) $ </center>\n",
       "\n",
       "when `k`is **even**,\n",
       "\n",
       "with $f(x)$ an analitical function.\n"
      ]
     },
     "execution_count": 6,
     "metadata": {},
     "output_type": "execute_result"
    }
   ],
   "source": [
    "? TaylorSeries2.sqrtHomogCoef"
   ]
  },
  {
   "cell_type": "code",
   "execution_count": 7,
   "metadata": {
    "collapsed": false
   },
   "outputs": [
    {
     "data": {
      "text/latex": [
       "Computes the \\textbf{\\texttt{r-th} expansion coefficient} of $t(x) = \\tan{f(x)}$ as \n",
       "<center> \\$ t\\_k = f\\_k + {\\textbackslash}frac\\{1\\}\\{k\\} {\\textbackslash}sum\\_\\{j=0\\}\\^{}\\{k-1\\} (k-j) f\\_\\{k-j\\} p\\_j \\$ </center>\n",
       "with $f(x)$ an analitical function and $p(x) := t(x)^2$.\n"
      ],
      "text/markdown": [
       "Computes the **`r-th` expansion coefficient** of $t(x) = \\tan{f(x)}$ as \n",
       "\n",
       "<center> $ t_k = f_k + \\frac{1}{k} \\sum_{j=0}^{k-1} (k-j) f_{k-j} p_j $ </center>\n",
       "\n",
       "with $f(x)$ an analitical function and $p(x) := t(x)^2$.\n"
      ],
      "text/plain": [
       "Computes the **`r-th` expansion coefficient** of $t(x) = \\tan{f(x)}$ as \n",
       "\n",
       "<center> $ t_k = f_k + \\frac{1}{k} \\sum_{j=0}^{k-1} (k-j) f_{k-j} p_j $ </center>\n",
       "\n",
       "with $f(x)$ an analitical function and $p(x) := t(x)^2$.\n"
      ]
     },
     "execution_count": 7,
     "metadata": {},
     "output_type": "execute_result"
    }
   ],
   "source": [
    "? TaylorSeries2.tanHomogCoef"
   ]
  },
  {
   "cell_type": "code",
   "execution_count": 8,
   "metadata": {
    "collapsed": false
   },
   "outputs": [
    {
     "data": {
      "text/latex": [
       "Computes the **\\texttt{k-th} expansion coefficients ** of $s(x) = \\sin{f(x)}$ and $c(x) = \\cos{f(x)}$ as\n",
       "<center> \\$ s\\_k = {\\textbackslash}frac\\{1\\}\\{k\\} {\\textbackslash}sum\\_\\{j=0\\}\\^{}\\{k-1\\} (k-j) f\\_\\{k-j\\} c\\_j \\$ </center>\n",
       "and\n",
       "<center> \\$ c\\_k = -{\\textbackslash}frac\\{1\\}\\{k\\} {\\textbackslash}sum\\_\\{j=0\\}\\^{}\\{k-1\\} (k-j) f\\_\\{k-j\\} s\\_j \\$ </center>\n",
       "with $f(x)$ an analitical function.\n"
      ],
      "text/markdown": [
       "Computes the **`k-th` expansion coefficients ** of $s(x) = \\sin{f(x)}$ and $c(x) = \\cos{f(x)}$ as\n",
       "\n",
       "<center> $ s_k = \\frac{1}{k} \\sum_{j=0}^{k-1} (k-j) f_{k-j} c_j $ </center>\n",
       "\n",
       "and\n",
       "\n",
       "<center> $ c_k = -\\frac{1}{k} \\sum_{j=0}^{k-1} (k-j) f_{k-j} s_j $ </center>\n",
       "\n",
       "with $f(x)$ an analitical function.\n"
      ],
      "text/plain": [
       "Computes the **`k-th` expansion coefficients ** of $s(x) = \\sin{f(x)}$ and $c(x) = \\cos{f(x)}$ as\n",
       "\n",
       "<center> $ s_k = \\frac{1}{k} \\sum_{j=0}^{k-1} (k-j) f_{k-j} c_j $ </center>\n",
       "\n",
       "and\n",
       "\n",
       "<center> $ c_k = -\\frac{1}{k} \\sum_{j=0}^{k-1} (k-j) f_{k-j} s_j $ </center>\n",
       "\n",
       "with $f(x)$ an analitical function.\n"
      ]
     },
     "execution_count": 8,
     "metadata": {},
     "output_type": "execute_result"
    }
   ],
   "source": [
    "? TaylorSeries2.sincosHomogCoef"
   ]
  },
  {
   "cell_type": "markdown",
   "metadata": {},
   "source": [
    "###  Some exclusive `TaylorSeries.jl` operations"
   ]
  },
  {
   "cell_type": "code",
   "execution_count": 9,
   "metadata": {
    "collapsed": false
   },
   "outputs": [
    {
     "name": "stdout",
     "output_type": "stream",
     "text": [
      "search: Taylor1 taylor1_variable TaylorN TaylorSeries2 TAYLOR_PATH\n",
      "\n"
     ]
    },
    {
     "data": {
      "text/latex": [
       "\\begin{verbatim}\n",
       "Taylor1{T<:Number} <: Number\n",
       "\\end{verbatim}\n",
       "DataType for polynomial expansions in one independent variable.\n",
       "\\textbf{Fields:}\n",
       "\\begin{itemize}\n",
       "\\item \\texttt{coeffs :: Array{T,1}} Expansion coefficients; the $i$-th component is the coefficient of degree $i-1$ of the expansion.\n",
       "\\item \\texttt{order  :: Int64} Maximum order (degree) of the polynomial.\n",
       "\\end{itemize}\n"
      ],
      "text/markdown": [
       "```\n",
       "Taylor1{T<:Number} <: Number\n",
       "```\n",
       "\n",
       "DataType for polynomial expansions in one independent variable.\n",
       "\n",
       "**Fields:**\n",
       "\n",
       "  * `coeffs :: Array{T,1}` Expansion coefficients; the $i$-th component is the coefficient of degree $i-1$ of the expansion.\n",
       "  * `order  :: Int64` Maximum order (degree) of the polynomial.\n"
      ],
      "text/plain": [
       "```\n",
       "Taylor1{T<:Number} <: Number\n",
       "```\n",
       "\n",
       "DataType for polynomial expansions in one independent variable.\n",
       "\n",
       "**Fields:**\n",
       "\n",
       "  * `coeffs :: Array{T,1}` Expansion coefficients; the $i$-th component is the coefficient of degree $i-1$ of the expansion.\n",
       "  * `order  :: Int64` Maximum order (degree) of the polynomial.\n"
      ]
     },
     "execution_count": 9,
     "metadata": {},
     "output_type": "execute_result"
    }
   ],
   "source": [
    "? Taylor1"
   ]
  },
  {
   "cell_type": "code",
   "execution_count": 10,
   "metadata": {
    "collapsed": false
   },
   "outputs": [
    {
     "name": "stdout",
     "output_type": "stream",
     "text": [
      "search: taylor1_variable\n",
      "\n"
     ]
    },
    {
     "data": {
      "text/latex": [
       "\\begin{verbatim}\n",
       "taylor1_variable(T, [order=1])\n",
       "taylor1_variable([order=1])\n",
       "\\end{verbatim}\n",
       "Short-cut to define the independent variable as a \\texttt{Taylor1} polynomial of given \\texttt{order}. If \\texttt{T::Type} is ommitted, \\texttt{Float64} is assumend.\n"
      ],
      "text/markdown": [
       "```\n",
       "taylor1_variable(T, [order=1])\n",
       "taylor1_variable([order=1])\n",
       "```\n",
       "\n",
       "Short-cut to define the independent variable as a `Taylor1` polynomial of given `order`. If `T::Type` is ommitted, `Float64` is assumend.\n"
      ],
      "text/plain": [
       "```\n",
       "taylor1_variable(T, [order=1])\n",
       "taylor1_variable([order=1])\n",
       "```\n",
       "\n",
       "Short-cut to define the independent variable as a `Taylor1` polynomial of given `order`. If `T::Type` is ommitted, `Float64` is assumend.\n"
      ]
     },
     "execution_count": 10,
     "metadata": {},
     "output_type": "execute_result"
    }
   ],
   "source": [
    "? taylor1_variable"
   ]
  },
  {
   "cell_type": "code",
   "execution_count": 8,
   "metadata": {
    "collapsed": false
   },
   "outputs": [
    {
     "name": "stdout",
     "output_type": "stream",
     "text": [
      "search: diffTaylor\n",
      "\n"
     ]
    },
    {
     "data": {
      "text/latex": [
       "\\begin{verbatim}\n",
       "diffTaylor(a, [r=1])\n",
       "\\end{verbatim}\n",
       "Partial differentiation of \\texttt{a::TaylorN} series with respect to the \\texttt{r}-th variable.\n",
       "\\begin{verbatim}\n",
       "diffTaylor(a, r)\n",
       "\\end{verbatim}\n",
       "Partial differentiation of \\texttt{a::HomogeneousPolynomial} series with respect to the \\texttt{r}-th variable.\n",
       "\\begin{verbatim}\n",
       "diffTaylor(a)\n",
       "\\end{verbatim}\n",
       "Return the \\texttt{Taylor1} polynomial of the differential of \\texttt{a::Taylor1}. \n",
       "The last coefficient is set to zero.\n"
      ],
      "text/markdown": [
       "```\n",
       "diffTaylor(a, [r=1])\n",
       "```\n",
       "\n",
       "Partial differentiation of `a::TaylorN` series with respect to the `r`-th variable.\n",
       "\n",
       "```\n",
       "diffTaylor(a, r)\n",
       "```\n",
       "\n",
       "Partial differentiation of `a::HomogeneousPolynomial` series with respect to the `r`-th variable.\n",
       "\n",
       "```\n",
       "diffTaylor(a)\n",
       "```\n",
       "\n",
       "Return the `Taylor1` polynomial of the differential of `a::Taylor1`. \n",
       "\n",
       "The last coefficient is set to zero.\n"
      ],
      "text/plain": [
       "```\n",
       "diffTaylor(a, [r=1])\n",
       "```\n",
       "\n",
       "Partial differentiation of `a::TaylorN` series with respect to the `r`-th variable.\n",
       "\n",
       "```\n",
       "diffTaylor(a, r)\n",
       "```\n",
       "\n",
       "Partial differentiation of `a::HomogeneousPolynomial` series with respect to the `r`-th variable.\n",
       "\n",
       "```\n",
       "diffTaylor(a)\n",
       "```\n",
       "\n",
       "Return the `Taylor1` polynomial of the differential of `a::Taylor1`. \n",
       "\n",
       "The last coefficient is set to zero.\n"
      ]
     },
     "execution_count": 8,
     "metadata": {},
     "output_type": "execute_result"
    }
   ],
   "source": [
    "? diffTaylor"
   ]
  },
  {
   "cell_type": "markdown",
   "metadata": {},
   "source": [
    "Para la documentación, vamos a necesitar las fórmulas generales de recursión, las cuales estarán indicadas al estilo Markdown en todos los `HomogPol` dentro de `Taylor1.jl` y `TaylorN.jl`."
   ]
  },
  {
   "cell_type": "markdown",
   "metadata": {},
   "source": [
    "<img src=\"TaylorExpansions.png\"> "
   ]
  }
 ],
 "metadata": {
  "kernelspec": {
   "display_name": "Julia 0.4.4-pre",
   "language": "julia",
   "name": "julia-0.4"
  },
  "language_info": {
   "file_extension": ".jl",
   "mimetype": "application/julia",
   "name": "julia",
   "version": "0.4.4"
  }
 },
 "nbformat": 4,
 "nbformat_minor": 0
}
