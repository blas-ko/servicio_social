{
 "cells": [
  {
   "cell_type": "code",
   "execution_count": 1,
   "metadata": {
    "collapsed": false
   },
   "outputs": [],
   "source": [
    "#We create the path, that is \"servicio_social\" behind on directories\n",
    "TAYLOR_PATH = pwd() \n",
    "for i in 1:15\n",
    "    TAYLOR_PATH = chop(TAYLOR_PATH)\n",
    "end\n",
    "\n",
    "TAYLOR_PATH = TAYLOR_PATH * \"TaylorSeries.jl/src\"\n",
    "push!(LOAD_PATH,TAYLOR_PATH)\n",
    "\n",
    "using TaylorSeries2"
   ]
  },
  {
   "cell_type": "code",
   "execution_count": 2,
   "metadata": {
    "collapsed": false
   },
   "outputs": [
    {
     "data": {
      "text/latex": [
       "Let be \\texttt{f(x)}  and \\texttt{g(x)} analitical functions, then, the \\textbf{\\texttt{r-th} expansion coefficient} of \\texttt{d(x) = f(x) / g(x)} is\n",
       "<center> \\texttt{dᵣ = 1/g₀ (fᵣ  -  ∑ᵏ⁻ⁱ dⱼ gᵣ₋ⱼ)}.\n"
      ],
      "text/markdown": [
       "Let be `f(x)`  and `g(x)` analitical functions, then, the **`r-th` expansion coefficient** of `d(x) = f(x) / g(x)` is\n",
       "\n",
       "<center> `dᵣ = 1/g₀ (fᵣ  -  ∑ᵏ⁻ⁱ dⱼ gᵣ₋ⱼ)`.\n"
      ],
      "text/plain": [
       "Let be `f(x)`  and `g(x)` analitical functions, then, the **`r-th` expansion coefficient** of `d(x) = f(x) / g(x)` is\n",
       "\n",
       "<center> `dᵣ = 1/g₀ (fᵣ  -  ∑ᵏ⁻ⁱ dⱼ gᵣ₋ⱼ)`.\n"
      ]
     },
     "execution_count": 2,
     "metadata": {},
     "output_type": "execute_result"
    }
   ],
   "source": [
    "? TaylorSeries2.divHomogCoef"
   ]
  },
  {
   "cell_type": "code",
   "execution_count": 3,
   "metadata": {
    "collapsed": false
   },
   "outputs": [
    {
     "data": {
      "text/latex": [
       "Let be \\texttt{f(x)} an analitical function, then, the \\textbf{\\texttt{r-th} expansion coefficient} of \\texttt{p(x) = f(x)ᵝ} is\n",
       "<center> \\texttt{pᵣ = 1/(kf₀) ∑ᵏ⁻¹(β(k-j) -j)fᵣ₋ⱼ pⱼ)}.\n"
      ],
      "text/markdown": [
       "Let be `f(x)` an analitical function, then, the **`r-th` expansion coefficient** of `p(x) = f(x)ᵝ` is\n",
       "\n",
       "<center> `pᵣ = 1/(kf₀) ∑ᵏ⁻¹(β(k-j) -j)fᵣ₋ⱼ pⱼ)`.\n"
      ],
      "text/plain": [
       "Let be `f(x)` an analitical function, then, the **`r-th` expansion coefficient** of `p(x) = f(x)ᵝ` is\n",
       "\n",
       "<center> `pᵣ = 1/(kf₀) ∑ᵏ⁻¹(β(k-j) -j)fᵣ₋ⱼ pⱼ)`.\n"
      ]
     },
     "execution_count": 3,
     "metadata": {},
     "output_type": "execute_result"
    }
   ],
   "source": [
    "? TaylorSeries2.powHomogCoef"
   ]
  },
  {
   "cell_type": "code",
   "execution_count": 4,
   "metadata": {
    "collapsed": false
   },
   "outputs": [
    {
     "data": {
      "text/latex": [
       "Let be \\texttt{f(x)}  and \\texttt{g(x)} analitical functions, then, the \\textbf{\\texttt{r-th} expansion coefficient} of \\texttt{p(x) = f(x) g(x)} is\n",
       "<center> \\texttt{pᵣ = ∑ᵏ fⱼ gᵣ₋ⱼ}.\n"
      ],
      "text/markdown": [
       "Let be `f(x)`  and `g(x)` analitical functions, then, the **`r-th` expansion coefficient** of `p(x) = f(x) g(x)` is\n",
       "\n",
       "<center> `pᵣ = ∑ᵏ fⱼ gᵣ₋ⱼ`.\n"
      ],
      "text/plain": [
       "Let be `f(x)`  and `g(x)` analitical functions, then, the **`r-th` expansion coefficient** of `p(x) = f(x) g(x)` is\n",
       "\n",
       "<center> `pᵣ = ∑ᵏ fⱼ gᵣ₋ⱼ`.\n"
      ]
     },
     "execution_count": 4,
     "metadata": {},
     "output_type": "execute_result"
    }
   ],
   "source": [
    "? TaylorSeries2.mulHomogCoef"
   ]
  },
  {
   "cell_type": "code",
   "execution_count": 5,
   "metadata": {
    "collapsed": false
   },
   "outputs": [
    {
     "data": {
      "text/latex": [
       "Let be \\texttt{f(x)} an analitical function, then, the \\textbf{\\texttt{r-th} expansion coefficient} of \\texttt{t(x) = tan(f(x))} with \\texttt{p(x) = t(x)²} is\n",
       "<center> \\texttt{tᵣ = fᵣ + 1/k ∑ᵏ⁻¹(r-j)fᵣ₋ⱼ pⱼ )}.\n"
      ],
      "text/markdown": [
       "Let be `f(x)` an analitical function, then, the **`r-th` expansion coefficient** of `t(x) = tan(f(x))` with `p(x) = t(x)²` is\n",
       "\n",
       "<center> `tᵣ = fᵣ + 1/k ∑ᵏ⁻¹(r-j)fᵣ₋ⱼ pⱼ )`.\n"
      ],
      "text/plain": [
       "Let be `f(x)` an analitical function, then, the **`r-th` expansion coefficient** of `t(x) = tan(f(x))` with `p(x) = t(x)²` is\n",
       "\n",
       "<center> `tᵣ = fᵣ + 1/k ∑ᵏ⁻¹(r-j)fᵣ₋ⱼ pⱼ )`.\n"
      ]
     },
     "execution_count": 5,
     "metadata": {},
     "output_type": "execute_result"
    }
   ],
   "source": [
    "? TaylorSeries2.tanHomogCoef"
   ]
  },
  {
   "cell_type": "code",
   "execution_count": 6,
   "metadata": {
    "collapsed": false
   },
   "outputs": [
    {
     "data": {
      "text/latex": [
       "Let be \\texttt{f(x)} an analitical function, then, the **\\texttt{r-th} expansion coefficients ** of \\texttt{s(x) = sin(f(x))} and \\texttt{c(x) = cos(f(x))} are\n",
       "<center> ``sᵣ = 1/k ∑ᵏ⁻¹(r-j)fᵣ₋ⱼ cⱼ ``. </center>\n",
       "and\n",
       "<center> ``cᵣ = -1/k ∑ᵏ⁻¹(r-j)fᵣ₋ⱼ sⱼ ``. </center>\n"
      ],
      "text/markdown": [
       "Let be `f(x)` an analitical function, then, the **`r-th` expansion coefficients ** of `s(x) = sin(f(x))` and `c(x) = cos(f(x))` are\n",
       "\n",
       "<center> ``sᵣ = 1/k ∑ᵏ⁻¹(r-j)fᵣ₋ⱼ cⱼ ``. </center>\n",
       "\n",
       "and\n",
       "\n",
       "<center> ``cᵣ = -1/k ∑ᵏ⁻¹(r-j)fᵣ₋ⱼ sⱼ ``. </center>\n"
      ],
      "text/plain": [
       "Let be `f(x)` an analitical function, then, the **`r-th` expansion coefficients ** of `s(x) = sin(f(x))` and `c(x) = cos(f(x))` are\n",
       "\n",
       "<center> ``sᵣ = 1/k ∑ᵏ⁻¹(r-j)fᵣ₋ⱼ cⱼ ``. </center>\n",
       "\n",
       "and\n",
       "\n",
       "<center> ``cᵣ = -1/k ∑ᵏ⁻¹(r-j)fᵣ₋ⱼ sⱼ ``. </center>\n"
      ]
     },
     "execution_count": 6,
     "metadata": {},
     "output_type": "execute_result"
    }
   ],
   "source": [
    "? TaylorSeries2.sincosHomogCoef"
   ]
  },
  {
   "cell_type": "code",
   "execution_count": 7,
   "metadata": {
    "collapsed": false
   },
   "outputs": [
    {
     "data": {
      "text/latex": [
       "Let be \\texttt{f(x)} an analitical function, then, the \\textbf{\\texttt{r-th} expansion coefficient} of \\texttt{s(x) = √f(x)} is\n",
       "<center> \\texttt{sᵣ = 1/(2 s₀) ( fᵣ - 2 ∑ᶹsᵣ₋ⱼ sⱼ )} </center>\n",
       "when \\texttt{r}is \\textbf{odd}, with \\texttt{υ = (r-1)/2}\n",
       "<center> \\texttt{sᵣ = 1/(2 s₀) ( fᵣ - 2 ∑ᵠ(sᵣ₋ⱼ sⱼ - (s_₍ᵣ/₂₎)² )} </center>\n",
       "when \\texttt{r}is \\textbf{even}, with \\texttt{φ = (r-2)/2}.\n"
      ],
      "text/markdown": [
       "Let be `f(x)` an analitical function, then, the **`r-th` expansion coefficient** of `s(x) = √f(x)` is\n",
       "\n",
       "<center> `sᵣ = 1/(2 s₀) ( fᵣ - 2 ∑ᶹsᵣ₋ⱼ sⱼ )` </center>\n",
       "\n",
       "when `r`is **odd**, with `υ = (r-1)/2`\n",
       "\n",
       "<center> `sᵣ = 1/(2 s₀) ( fᵣ - 2 ∑ᵠ(sᵣ₋ⱼ sⱼ - (s_₍ᵣ/₂₎)² )` </center>\n",
       "\n",
       "when `r`is **even**, with `φ = (r-2)/2`.\n"
      ],
      "text/plain": [
       "Let be `f(x)` an analitical function, then, the **`r-th` expansion coefficient** of `s(x) = √f(x)` is\n",
       "\n",
       "<center> `sᵣ = 1/(2 s₀) ( fᵣ - 2 ∑ᶹsᵣ₋ⱼ sⱼ )` </center>\n",
       "\n",
       "when `r`is **odd**, with `υ = (r-1)/2`\n",
       "\n",
       "<center> `sᵣ = 1/(2 s₀) ( fᵣ - 2 ∑ᵠ(sᵣ₋ⱼ sⱼ - (s_₍ᵣ/₂₎)² )` </center>\n",
       "\n",
       "when `r`is **even**, with `φ = (r-2)/2`.\n"
      ]
     },
     "execution_count": 7,
     "metadata": {},
     "output_type": "execute_result"
    }
   ],
   "source": [
    "? TaylorSeries2.sqrtHomogCoef"
   ]
  },
  {
   "cell_type": "code",
   "execution_count": 8,
   "metadata": {
    "collapsed": false
   },
   "outputs": [
    {
     "data": {
      "text/latex": [
       "Let be \\texttt{f(x)} an analitical function, then, the \\textbf{\\texttt{r-th} expansion coefficient} of \\texttt{s(x) = f(x)²} is\n",
       "<center> \\texttt{sᵣ = 2 ∑ᶹfᵣ₋ⱼ fⱼ} </center>\n",
       "when \\texttt{r}is \\textbf{odd}, with \\texttt{υ = (r-1)/2}\n",
       "<center> \\texttt{sᵣ = 2 ∑ᵠ(fᵣ₋ⱼ fⱼ + (f_₍ᵣ/₂₎)²} </center>\n",
       "when \\texttt{r}is \\textbf{even}, with \\texttt{φ = (r-2)/2}.\n"
      ],
      "text/markdown": [
       "Let be `f(x)` an analitical function, then, the **`r-th` expansion coefficient** of `s(x) = f(x)²` is\n",
       "\n",
       "<center> `sᵣ = 2 ∑ᶹfᵣ₋ⱼ fⱼ` </center>\n",
       "\n",
       "when `r`is **odd**, with `υ = (r-1)/2`\n",
       "\n",
       "<center> `sᵣ = 2 ∑ᵠ(fᵣ₋ⱼ fⱼ + (f_₍ᵣ/₂₎)²` </center>\n",
       "\n",
       "when `r`is **even**, with `φ = (r-2)/2`.\n"
      ],
      "text/plain": [
       "Let be `f(x)` an analitical function, then, the **`r-th` expansion coefficient** of `s(x) = f(x)²` is\n",
       "\n",
       "<center> `sᵣ = 2 ∑ᶹfᵣ₋ⱼ fⱼ` </center>\n",
       "\n",
       "when `r`is **odd**, with `υ = (r-1)/2`\n",
       "\n",
       "<center> `sᵣ = 2 ∑ᵠ(fᵣ₋ⱼ fⱼ + (f_₍ᵣ/₂₎)²` </center>\n",
       "\n",
       "when `r`is **even**, with `φ = (r-2)/2`.\n"
      ]
     },
     "execution_count": 8,
     "metadata": {},
     "output_type": "execute_result"
    }
   ],
   "source": [
    "? TaylorSeries2.squareHomogCoef"
   ]
  },
  {
   "cell_type": "markdown",
   "metadata": {},
   "source": [
    "Para la documentación, vamos a necesitar las fórmulas generales de recursión, las cuales estarán indicadas al estilo Markdown en todos los `HomogPol` dentro de `Taylor1.jl` y `TaylorN.jl`."
   ]
  },
  {
   "cell_type": "markdown",
   "metadata": {},
   "source": [
    "<img src=\"TaylorExpansions.png\"> "
   ]
  }
 ],
 "metadata": {
  "kernelspec": {
   "display_name": "Julia 0.4.4-pre",
   "language": "julia",
   "name": "julia-0.4"
  },
  "language_info": {
   "file_extension": ".jl",
   "mimetype": "application/julia",
   "name": "julia",
   "version": "0.4.4"
  }
 },
 "nbformat": 4,
 "nbformat_minor": 0
}
